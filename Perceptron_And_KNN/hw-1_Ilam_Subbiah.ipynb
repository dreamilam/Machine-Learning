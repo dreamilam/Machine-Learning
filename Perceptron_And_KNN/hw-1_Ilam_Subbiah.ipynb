{
 "cells": [
  {
   "cell_type": "markdown",
   "metadata": {},
   "source": [
    "# K-Nearest Neighbors\n",
    "***\n",
    "**Name**: Ilamvazhuthy Subbiah\n",
    "***\n",
    "\n",
    "This assignment is due on Canvas by **5pm on Wednesday September 19th**. Submit only this Jupyter notebook to Canvas.  Do not compress it using tar, rar, zip, etc. Your solutions to analysis questions should be done in Markdown directly below the associated question.  Remember that you are encouraged to discuss the problems with your classmates and instructors, but **you must write all code and solutions on your own**, and list any people or sources consulted.\n"
   ]
  },
  {
   "cell_type": "markdown",
   "metadata": {},
   "source": [
    "## Overview \n",
    "***\n",
    "\n",
    "\n",
    "In this homework you'll implement prototype based k-nn and perceptron (with offset = 0) training algorithms using convergence method covered in the class.\n",
    "\n",
    "Most of this assignment will be done by calling libraries that are already implemented for you. You can use python loops to accomplish most of the implementation, but we would strongly encourage you to use vectorized operations using `numpy` package.\n",
    "\n",
    "Here are the rules: \n",
    "\n",
    "- Do **NOT** load or use any Python packages that are not available in Anaconda 3.6. \n",
    "- Some problems with code may be autograded.  If we provide a function or class API **do not** change it.\n",
    "- Do not change the location of the data or data directory.  Use only relative paths to access the data. "
   ]
  },
  {
   "cell_type": "markdown",
   "metadata": {},
   "source": [
    "### Linear Algebra - 10 points\n",
    "***\n",
    "Given matrix:\n",
    "\n",
    "$$\n",
    "\\begin{equation*}\n",
    "\\mathbf{A} = \\begin{bmatrix}2 & -1 & 0\\\\-1 & 2 & -1\\\\ 0 & -1 & 2\\end{bmatrix}\n",
    "\\end{equation*}\n",
    "$$\n",
    "\n",
    "Answer the following questions:\n",
    "\n",
    "**1.** Are the vectors $\\begin{equation*} \\mathbf{x} = \\begin{bmatrix}2\\\\-1\\\\0\\end{bmatrix}, \\mathbf{y} = \\begin{bmatrix}-1 \\\\ 2 \\\\ -1\\end{bmatrix}, \\mathbf{z} = \\begin{bmatrix}0 \\\\ -1 \\\\2\\end{bmatrix} \\end{equation*}$ linearly independent? Justify your answer"
   ]
  },
  {
   "cell_type": "markdown",
   "metadata": {
    "collapsed": true
   },
   "source": [
    "\n",
    ">__Answer:__ Yes, the vectors are linearly independent. For the vectors to be linearly dependent, we have to show that there exists a non-trivial solution to the equation\n",
    "\n",
    ">$$c_1\\mathbf{x} + c_2\\mathbf{y} + c_3\\mathbf{z} = 0 $$\n",
    "\n",
    ">Writing the matrix in augmented form and doing row operations, we get\n",
    "\n",
    ">$$\\begin{bmatrix}2 & -1 & 0 & 0\\\\-1 & 2 & -1 & 0\\\\ 0 & -1 & 2 & 0\\end{bmatrix} \\sim \\begin{bmatrix}2 & -1 & 0 & 0\\\\0 & 3 & -2 & 0\\\\ 0 & 0 & 1 & 0\\end{bmatrix}$$\n",
    "\n",
    ">The only set of values for $c_1, c_2, c_3$ that satisfy the equation are $c_1 = 0$, $c_2 = 0$, $c_3 = 0$. Hence the vectors are linearly independent."
   ]
  },
  {
   "cell_type": "markdown",
   "metadata": {},
   "source": [
    "**2.** Find the eigenvalues and the corresponding eigenvectors of $\\mathbf{A}$"
   ]
  },
  {
   "cell_type": "markdown",
   "metadata": {
    "collapsed": true
   },
   "source": [
    ">__Answer:__ A scalar $\\lambda$ is an eigenvalue of $\\mathbf{A}$ if and only if it satisfies the characteristic equation\n",
    "\n",
    ">$$\\det(\\mathbf{A}-\\lambda \\mathbf{I}) = 0$$\n",
    "where $\\mathbf{I}$ is the identity matrix.\n",
    ">$$\\mathbf{A}-\\lambda \\mathbf{I} = \\begin{bmatrix}2- \\lambda & -1 & 0\\\\-1 & 2-\\lambda & -1\\\\ 0 & -1 & 2-\\lambda\\end{bmatrix}$$\n",
    "\n",
    ">$$\\implies \\det(\\mathbf{A}-\\lambda \\mathbf{I}) = (2-\\lambda)((2-\\lambda)^2-1) - (2-\\lambda) = 0$$\n",
    "\n",
    ">$$\\implies (2-\\lambda)(\\lambda^2 -4\\lambda +2) = 0$$\n",
    "\n",
    ">$$\\implies \\lambda = 2,\\, 2 + \\sqrt{2},\\,2 -\\sqrt{2}$$\n",
    "\n",
    ">To find the eigenvectors, we need to find the solution to the equation\n",
    "\n",
    ">$$(\\mathbf{A}-\\lambda \\mathbf{I})\\mathbf{x} = 0$$\n",
    "\n",
    ">Writing the augmented matrix for $\\lambda = 2$ and doing row operations, we get\n",
    "\n",
    ">$$\\begin{bmatrix}2-2 & -1 & 0 & 0\\\\-1 & 2-2 & -1 & 0\\\\ 0 & -1 & 2-2 & 0\\end{bmatrix} \\sim \\begin{bmatrix}1 & 0 & 1 & 0\\\\0 & 1 & 0 & 0\\\\ 0 & 0 & 0 & 0\\end{bmatrix}$$\n",
    "\n",
    ">The general solution is of the form $\\begin{equation*}  \\begin{bmatrix}-1\\\\0\\\\1\\end{bmatrix}x_3\\end{equation*}$. Any vector of this form with $x_3 \\neq 0$ is an eigenvector corresponding to $\\lambda = 2$. \n",
    "\n",
    ">Writing the augmented matrix for $\\lambda = 2 + \\sqrt{2}$ and doing row operations, we get\n",
    "\n",
    ">$$\\begin{bmatrix}2-2-\\sqrt{2} & -1 & 0 & 0\\\\-1 & 2-2-\\sqrt{2} & -1 & 0\\\\ 0 & -1 & 2-2-\\sqrt{2} & 0\\end{bmatrix} \\sim \\begin{bmatrix}1 & 0 & -1 & 0\\\\0 & 1 & \\sqrt{2} & 0\\\\ 0 & 0 & 0 & 0\\end{bmatrix}$$\n",
    "\n",
    ">The general solution is of the form $\\begin{equation*}  \\begin{bmatrix}1\\\\-\\sqrt{2}\\\\1\\end{bmatrix}x_3\\end{equation*}$. Any vector of this form with $x_3 \\neq 0$ is an eigenvector corresponding to $\\lambda = 2 + \\sqrt{2}$.\n",
    "\n",
    ">Writing the augmented matrix for $\\lambda = 2 -\\sqrt{2}$ and doing row operations, we get\n",
    "\n",
    ">$$\\begin{bmatrix}2-2+\\sqrt{2} & -1 & 0 & 0\\\\-1 & 2-2+\\sqrt{2} & -1 & 0\\\\ 0 & -1 & 2-2+\\sqrt{2} & 0\\end{bmatrix} \\sim \\begin{bmatrix}1 & 0 & -1 & 0\\\\0 & 1 & -\\sqrt{2} & 0\\\\ 0 & 0 & 0 & 0\\end{bmatrix}$$\n",
    "\n",
    ">The general solution is of the form $\\begin{equation*}  \\begin{bmatrix}1\\\\ \\sqrt{2}\\\\1\\end{bmatrix}x_3\\end{equation*}$. Any vector of this form with $x_3 \\neq 0$ is an eigenvector corresponding to $\\lambda = 2 - \\sqrt{2}$."
   ]
  },
  {
   "cell_type": "markdown",
   "metadata": {},
   "source": [
    "**3.** Let $M$ be any matrix with real entries. $M$ is *positive semidefinite* if, for any vector $x$ with real components, the dot product of $Mx$ and $x$ is nonnegative, $\\langle Mx, x \\rangle \\geq 0$\n",
    "\n",
    "Let $B = \\begin{bmatrix}1 & 2\\\\-2 & 1\\end{bmatrix}$. Show that $B$ is positive semidefinite.(i.e., show that $\\langle Bx, x \\rangle \\geq 0$)"
   ]
  },
  {
   "cell_type": "markdown",
   "metadata": {
    "collapsed": true
   },
   "source": [
    ">__Answer:__ Let $x$ be represented as \n",
    "\n",
    ">$$ x = \\begin{bmatrix}x_1\\\\ x_2 \\end{bmatrix}$$\n",
    "\n",
    ">$$ \\implies Bx = \\begin{bmatrix}x_1 + 2x_2\\\\ -2x_1+ x_2 \\end{bmatrix}$$\n",
    "\n",
    ">$$\\implies \\langle Bx, x \\rangle = x_1^2 + 2x_1x_2 - 2x_1x_2 + x_2^2$$\n",
    "\n",
    ">$$\\implies \\langle Bx, x \\rangle = x_1^2 + x_2^2$$\n",
    "\n",
    ">since $x_1$ and $x_2$ are real valued, $\\langle Bx, x \\rangle \\geq 0$. Hence, $B$ is positive semidefinite."
   ]
  },
  {
   "cell_type": "markdown",
   "metadata": {},
   "source": [
    "**4.** A *symmetric* matrix $H$ is positive semidefinite if and only if the eigenvalues of $H$ are all non-negative. Is matrix $A$ positive semidefinite? Why?"
   ]
  },
  {
   "cell_type": "markdown",
   "metadata": {
    "collapsed": true
   },
   "source": [
    ">__Answer:__ Yes, matrix $A$ is positive semidefinite since it is symmetric and its eigenvalues are all non-negative."
   ]
  },
  {
   "cell_type": "markdown",
   "metadata": {},
   "source": [
    "### Prototype Based K-NN - 10 points\n",
    "***\n",
    "\n",
    "In this problem you'll implement a prototype based K-Nearest Neighbor framework to take an image of a handwritten digit and predict which digit it corresponds to.\n",
    "\n",
    "<br>\n",
    "\n",
    "![Samples of Handwritten Digits](wide_mnist.png \"MNIST Digits\")\n",
    "\n",
    "\n",
    "<br>"
   ]
  },
  {
   "cell_type": "code",
   "execution_count": 7,
   "metadata": {
    "ExecuteTime": {
     "end_time": "2018-08-31T21:21:54.811264Z",
     "start_time": "2018-08-31T21:21:54.431647Z"
    },
    "collapsed": true
   },
   "outputs": [],
   "source": [
    "import numpy as np\n",
    "import matplotlib.pylab as plt\n",
    "%matplotlib inline"
   ]
  },
  {
   "cell_type": "markdown",
   "metadata": {},
   "source": [
    "The class below will load and store the MNIST data.  Load the data and then report: \n",
    "- The number of examples in the training set \n",
    "- The number of examples in the test set \n",
    "- The number of pixels in each image. \n",
    "- Plot the number of data points per class\n",
    "   "
   ]
  },
  {
   "cell_type": "code",
   "execution_count": 8,
   "metadata": {
    "ExecuteTime": {
     "end_time": "2018-08-31T22:52:03.734460Z",
     "start_time": "2018-08-31T22:52:03.725537Z"
    },
    "collapsed": true
   },
   "outputs": [],
   "source": [
    "class Numbers:\n",
    "    \"\"\"\n",
    "    Class to store MNIST data\n",
    "    \"\"\"\n",
    "    def __init__(self, location):\n",
    "\n",
    "        import pickle, gzip\n",
    "\n",
    "        # load data from file \n",
    "        f = gzip.open(location, 'rb')\n",
    "        train_set, valid_set, test_set = pickle.load(f)\n",
    "        f.close()\n",
    "\n",
    "        # store for use later  \n",
    "        self.train_x, self.train_y = train_set\n",
    "        self.test_x, self.test_y = valid_set"
   ]
  },
  {
   "cell_type": "code",
   "execution_count": 9,
   "metadata": {
    "ExecuteTime": {
     "end_time": "2018-08-31T22:52:05.787320Z",
     "start_time": "2018-08-31T22:52:05.090173Z"
    },
    "collapsed": true
   },
   "outputs": [],
   "source": [
    "DATA_PATH = \"data/mnist.pklz\"\n",
    "data = Numbers(DATA_PATH)"
   ]
  },
  {
   "cell_type": "code",
   "execution_count": 10,
   "metadata": {},
   "outputs": [
    {
     "name": "stdout",
     "output_type": "stream",
     "text": [
      "Number of examples in the training set is 50000\n",
      "Number of examples in the test set is 10000\n",
      "Number of pixels in each image is 784\n"
     ]
    },
    {
     "data": {
      "image/png": "[encoded data removed]",
      "text/plain": [
       "<matplotlib.figure.Figure at 0x10ed61470>"
      ]
     },
     "metadata": {},
     "output_type": "display_data"
    }
   ],
   "source": [
    "# Number of examples in the training set\n",
    "print('Number of examples in the training set is', len(data.train_x))\n",
    "\n",
    "# Number of examples in the test set\n",
    "print('Number of examples in the test set is', len(data.test_x))\n",
    "\n",
    "#Number of pixels in the image\n",
    "print('Number of pixels in each image is', len(data.train_x[0]))\n",
    "\n",
    "# Plotting the number of data points per class\n",
    "no_of_data_points = {}\n",
    "for item in data.train_y:\n",
    "    no_of_data_points[item] = no_of_data_points.get(item,0) + 1\n",
    "\n",
    "x, y = zip(*sorted(no_of_data_points.items()))\n",
    "#plt.plot(x, y)\n",
    "plt.bar(x, y)\n",
    "plt.xlabel(\"Class\")\n",
    "plt.ylabel(\"No of data points per class\")\n",
    "plt.ylim((0,10000))\n",
    "plt.xticks(np.arange(0, 10, 1.0))\n",
    "plt.show()"
   ]
  },
  {
   "cell_type": "markdown",
   "metadata": {},
   "source": [
    "The class below will perform K-Nearest Neighbor classification on our handwritten digit data. Your tasks are as follows:\n",
    "\n",
    "1. Modify `select_prototypes` method to select `p` random prototypes from training data which will be used for finding `k` nearest neighbors instead of all the training data points.\n",
    "1. Modify the `label_counts` function to return a dictionary of frequencies corresponding to each label in the training set.\n",
    "1. Modify the `majority` function so that it returns the _label_ that appears most frequently in the $K$-nearest neighbors of the query point.  In the case that the maximum frequency occurs for two or more labels, return the one that appears most frequently in the entire training set. In the case that there is still a tie, break the tie in any way that you choose.\n",
    "1. Modify the `confusion_matrix` function to classify examples and record the results in a confusion matrix. You should construct the confusion matrix on your own. Don't call any additional functions from sklearn to do it for you.\n",
    "1. Modify the `classify` function so that it finds the indices of the $K$ closest training examples to the query point and then calls the `majority` function to return the predicted label. Almost all of the heavy lifting here will be done by the `BallTree` object from sklearn.neighbors, so you'll want to start out by reading the [documentation](http://scikit-learn.org/stable/modules/generated/sklearn.neighbors.BallTree.html#sklearn.neighbors.BallTree.query)\n",
    "\n",
    "The class Knearest also implements an accuracy function which you will use in subsequent problems. You should not have to modify this function."
   ]
  },
  {
   "cell_type": "code",
   "execution_count": 11,
   "metadata": {
    "collapsed": true
   },
   "outputs": [],
   "source": [
    "class Knearest:\n",
    "    \"\"\"\n",
    "    kNN classifier\n",
    "    \"\"\"\n",
    "\n",
    "    def __init__(self, X, y, k=5, p=10):\n",
    "        \"\"\"\n",
    "        Creates a kNN instance\n",
    "\n",
    "        :param x: Training data input\n",
    "        :param y: Training data output\n",
    "        :param k: The number of nearest points to consider in classification\n",
    "        :param p: The number of prototypes to choose\n",
    "        \"\"\"\n",
    "        \n",
    "        from sklearn.neighbors import BallTree\n",
    "        \n",
    "        self._p = p\n",
    "        self._x, self._y = self.select_prototypes(X, y)\n",
    "        self._k = k\n",
    "        self._counts = self.label_counts(y)\n",
    "        self._kdtree = BallTree(self._x)\n",
    "            \n",
    "    def label_counts(self, y):\n",
    "        \"\"\"\n",
    "        Given the training prototypes, return a dictionary d where d[y] is  \n",
    "        the number of times that label y appears in the training prototypes.\n",
    "        \n",
    "        :param y: Training labels input\n",
    "        \"\"\"   \n",
    "        d = {}\n",
    "        for i in range(0, len(y)):\n",
    "            d[y[i]] = d.get(y[i], 0) + 1\n",
    "\n",
    "        return d\n",
    "\n",
    "\n",
    "    def majority(self, neighbor_indices):\n",
    "        \"\"\"\n",
    "        Given the indices of training protypes, return the majority label. Break ties \n",
    "        by choosing the tied label that appears most often in the training prototypes. \n",
    "\n",
    "        :param neighbor_indices: The indices of the k nearest neighbors\n",
    "        \"\"\"\n",
    "        assert len(neighbor_indices) == self._k, \"Did not get k neighbor indices\"\n",
    "        \n",
    "        count = {}\n",
    "        for i in range(0, len(neighbor_indices)):\n",
    "            count[self._y[neighbor_indices[i]]] = count.get(self._y[neighbor_indices[i]], 0) + 1\n",
    "        \n",
    "        # Get the Majority Labels\n",
    "        max_count = max(count.values())\n",
    "        max_labels = [key for key in count.keys() if count[key] == max_count] \n",
    "        max_label = max_labels[0]\n",
    "        \n",
    "        # Break ties if there is more than one majority label\n",
    "        if len(max_labels) > 1:\n",
    "            max_label = max_labels[0]\n",
    "            for label in max_labels:\n",
    "                if self._counts[label] > self._counts[max_label]:\n",
    "                    max_label = label\n",
    "                    \n",
    "        return max_label\n",
    "    \n",
    "\n",
    "    def classify(self, example):\n",
    "        \"\"\"\n",
    "        Given an example, return the predicted label.\n",
    "\n",
    "        :param example: A representation of an example in the same\n",
    "        format as a row of the training data\n",
    "        \"\"\"\n",
    "        _, indices = self._kdtree.query(example.reshape(1,-1), self._k)\n",
    "        neighbor_indices = indices.reshape(-1)\n",
    "        \n",
    "        return self.majority(neighbor_indices)        \n",
    "        \n",
    "    def select_prototypes(self, X, y):\n",
    "        \"\"\"\n",
    "        Given the train data, select p random prototypes from data for classification\n",
    "        calculation.\n",
    "        \n",
    "        :param x: Training data input\n",
    "        :param y: Training data output\n",
    "        \"\"\"\n",
    "        # Create a list of indices and randomly shuffle them.\n",
    "        # Choose the first p indices\n",
    "        random_list = [i for i in range(0, len(X))]\n",
    "        random.shuffle(random_list)\n",
    "        \n",
    "        X_proto = np.array([X[random_list[i]] for i in range(0, self._p)])\n",
    "        y_proto = np.array([y[random_list[i]] for i in range(0, self._p)])\n",
    "        \n",
    "        return X_proto, y_proto\n",
    "            \n",
    "    def confusion_matrix(self, test_x, test_y):\n",
    "        \"\"\"\n",
    "        Given a matrix of test examples and labels, compute the confusion\n",
    "        matrix for the current classifier.  Should return a 2-dimensional\n",
    "        numpy array of ints, C, where C[ii,jj] is the number of times an \n",
    "        example with true label ii was labeled as jj.\n",
    "\n",
    "        :param test_x: test data \n",
    "        :param test_y: true test labels \n",
    "        \"\"\"\n",
    "        \n",
    "        C = np.zeros((10,10), dtype=int)\n",
    "        for xx, yy in zip(test_x, test_y):\n",
    "            y_pred=self.classify(xx)\n",
    "            C[yy][y_pred] += 1\n",
    "        return C \n",
    "            \n",
    "    @staticmethod\n",
    "    def accuracy(C):\n",
    "        \"\"\"\n",
    "        Given a confusion matrix C, compute the accuracy of the underlying classifier.\n",
    "        \n",
    "        :param C: a confusion matrix \n",
    "        \"\"\"\n",
    "        \n",
    "        return np.sum(C.diagonal()) / C.sum()"
   ]
  },
  {
   "cell_type": "code",
   "execution_count": 12,
   "metadata": {
    "ExecuteTime": {
     "end_time": "2018-09-04T06:37:10.241613Z",
     "start_time": "2018-09-04T06:37:10.198952Z"
    },
    "scrolled": true
   },
   "outputs": [
    {
     "name": "stderr",
     "output_type": "stream",
     "text": [
      "....\n",
      "----------------------------------------------------------------------\n",
      "Ran 4 tests in 0.012s\n",
      "\n",
      "OK\n"
     ]
    },
    {
     "data": {
      "text/plain": [
       "<unittest.runner.TextTestResult run=4 errors=0 failures=0>"
      ]
     },
     "execution_count": 12,
     "metadata": {},
     "output_type": "execute_result"
    }
   ],
   "source": [
    "import unittest\n",
    "\n",
    "class TestKnn(unittest.TestCase):\n",
    "    def setUp(self):\n",
    "        self.x = np.array([[2, 0], [4, 1], [6, 0], [1, 4], [2, 4], [2, 5], [4, 4], [0, 2], [3, 2], [4, 2], [5, 2], [5, 5]])\n",
    "        self.y = np.array([+1, +1, +1, +1, +1, +1, +1, -1, -1, -1, -1, -1])\n",
    "        self.knn = {}\n",
    "        for ii in [1, 2, 3]:\n",
    "            self.knn[ii] = Knearest(self.x, self.y, ii, len(self.x))\n",
    "\n",
    "        self.queries = np.array([[1, 5], [0, 3], [6, 4]])\n",
    "        \n",
    "    def test0(self):\n",
    "        \"\"\"\n",
    "        Test the label counter \n",
    "        \"\"\"\n",
    "        self.assertEqual(self.knn[1]._counts[-1], 5)\n",
    "        self.assertEqual(self.knn[1]._counts[1], 7)\n",
    "\n",
    "    def test1(self):\n",
    "        \"\"\"\n",
    "        Test 1NN\n",
    "        \"\"\"\n",
    "        self.assertEqual(self.knn[1].classify(self.queries[0]),  1)\n",
    "        self.assertEqual(self.knn[1].classify(self.queries[1]), -1)\n",
    "        self.assertEqual(self.knn[1].classify(self.queries[2]), -1)\n",
    "\n",
    "    def test2(self):\n",
    "        \"\"\"\n",
    "        Test 2NN\n",
    "        \"\"\"\n",
    "        self.assertEqual(self.knn[2].classify(self.queries[0]),  1)\n",
    "        self.assertEqual(self.knn[2].classify(self.queries[1]),  1)\n",
    "        self.assertEqual(self.knn[2].classify(self.queries[2]),  1)\n",
    "\n",
    "    def test3(self):\n",
    "        \"\"\"\n",
    "        Test 3NN\n",
    "        \"\"\"\n",
    "        self.assertEqual(self.knn[3].classify(self.queries[0]),  1)\n",
    "        self.assertEqual(self.knn[3].classify(self.queries[1]),  1)\n",
    "        self.assertEqual(self.knn[3].classify(self.queries[2]), -1)\n",
    "        \n",
    "tests = TestKnn()\n",
    "tests_to_run = unittest.TestLoader().loadTestsFromModule(tests)\n",
    "unittest.TextTestRunner().run(tests_to_run)"
   ]
  },
  {
   "cell_type": "markdown",
   "metadata": {},
   "source": [
    "Now, you'll explore the performance of the classifier you've written.\n",
    "\n",
    "**Part A:** Explore the relationship between the number of training examples and accuracy on the test set. Comment on your findings and support your observations with some kind of plot."
   ]
  },
  {
   "cell_type": "code",
   "execution_count": 13,
   "metadata": {
    "collapsed": true
   },
   "outputs": [],
   "source": [
    "accuracy_vs_training_ex = []\n",
    "for i in range(1,6):\n",
    "    MNIST_Knn = Knearest(data.train_x[:i*10000], data.train_y[:i*10000], 5, 1000)\n",
    "    accuracy_vs_training_ex.append(MNIST_Knn.accuracy(MNIST_Knn.confusion_matrix(data.test_x, data.test_y)))"
   ]
  },
  {
   "cell_type": "code",
   "execution_count": 14,
   "metadata": {},
   "outputs": [
    {
     "data": {
      "image/png": "[encoded data removed]",
      "text/plain": [
       "<matplotlib.figure.Figure at 0x11b5aecf8>"
      ]
     },
     "metadata": {},
     "output_type": "display_data"
    }
   ],
   "source": [
    "x_axis = [i * 10000 for i in range(1,6)]\n",
    "plt.plot(x_axis, accuracy_vs_training_ex)\n",
    "plt.xlabel(\"No of Training examples\")\n",
    "plt.ylabel(\"Accuracy\")\n",
    "plt.ylim((0.5,1))\n",
    "plt.show()"
   ]
  },
  {
   "cell_type": "markdown",
   "metadata": {},
   "source": [
    "The number of training examples has a very little effect on the test set accuracy. "
   ]
  },
  {
   "cell_type": "markdown",
   "metadata": {},
   "source": [
    "**Part B**: Explore the relationship between the number of nearest neighbors and accuracy on the test set. Comment on your findings and support your observations with some kind of plot."
   ]
  },
  {
   "cell_type": "code",
   "execution_count": 15,
   "metadata": {
    "collapsed": true
   },
   "outputs": [],
   "source": [
    "accuracy_vs_k = []\n",
    "for i in range(1,11):\n",
    "    MNIST_Knn = Knearest(data.train_x, data.train_y, i, 1000)\n",
    "    accuracy_vs_k.append(MNIST_Knn.accuracy(MNIST_Knn.confusion_matrix(data.test_x, data.test_y)))"
   ]
  },
  {
   "cell_type": "code",
   "execution_count": 63,
   "metadata": {},
   "outputs": [
    {
     "data": {
      "image/png": "[encoded data removed]",
      "text/plain": [
       "<matplotlib.figure.Figure at 0x11d9a0160>"
      ]
     },
     "metadata": {},
     "output_type": "display_data"
    }
   ],
   "source": [
    "x_axis = [i for i in range(1, 11)]\n",
    "plt.plot(x_axis, accuracy_vs_k)\n",
    "plt.xlabel(\"No of nearest neighbors\")\n",
    "plt.ylabel(\"Accuracy\")\n",
    "plt.ylim((0,1))\n",
    "plt.show()"
   ]
  },
  {
   "cell_type": "markdown",
   "metadata": {},
   "source": [
    "The accuracy is the highest when k = 1. It then keeps decreasing and increasing, and stays more or less flat as k keeps increasing."
   ]
  },
  {
   "cell_type": "markdown",
   "metadata": {},
   "source": [
    "**Part C**: Which numbers get confused with each other the most easily?  Use the confusion_matrix function that you wrote above to support your conclusion.  Then use the `view_digit` function given below to plot a few examples of misclassified digits and discuss possible reasons for the misclassifications.  (Investigating misclassified examples is called **error analysis** and is an important step in the development of any classification technique).  "
   ]
  },
  {
   "cell_type": "code",
   "execution_count": 17,
   "metadata": {},
   "outputs": [
    {
     "name": "stdout",
     "output_type": "stream",
     "text": [
      "[[ 931    0    7    7    0    9   24    3    2    8]\n",
      " [   0 1056    2    1    0    0    0    3    0    2]\n",
      " [  13   52  822   17    6    1    6   41   13   19]\n",
      " [   2    7    4  942    1   26    5   10   24    9]\n",
      " [   0   38    1    0  764    2    7   30    1  140]\n",
      " [   4   16    2   83    3  754   27    7    3   16]\n",
      " [   4   10    2    1    5    2  940    1    0    2]\n",
      " [   1   33    0    0    2    0    0 1018    0   36]\n",
      " [   4   61    6   67    2   29   11   26  767   36]\n",
      " [   3    9    1   16   21    3    0   79    1  828]]\n"
     ]
    }
   ],
   "source": [
    "MNIST_Knn = Knearest(data.train_x, data.train_y, 3, 1000)\n",
    "print(MNIST_Knn.confusion_matrix(data.test_x, data.test_y))"
   ]
  },
  {
   "cell_type": "markdown",
   "metadata": {},
   "source": [
    "(9, 7), (5,3) are the numbers which get confused with each other the most easily."
   ]
  },
  {
   "cell_type": "code",
   "execution_count": 26,
   "metadata": {
    "ExecuteTime": {
     "end_time": "2018-08-31T22:52:11.759526Z",
     "start_time": "2018-08-31T22:52:11.611171Z"
    }
   },
   "outputs": [
    {
     "name": "stdout",
     "output_type": "stream",
     "text": [
      "Predicted label: 7\n",
      "true label: 9\n"
     ]
    },
    {
     "data": {
      "image/png": "[encoded data removed]",
      "text/plain": [
       "<matplotlib.figure.Figure at 0x11d80bfd0>"
      ]
     },
     "metadata": {},
     "output_type": "display_data"
    }
   ],
   "source": [
    "def view_digit(example, label=None):\n",
    "    if label: print(\"true label: {:d}\".format(label))\n",
    "    plt.imshow(example.reshape(28,28), cmap='gray');\n",
    "\n",
    "for i in range(0, len(data.train_x)):\n",
    "    if MNIST_Knn.classify(data.train_x[i]) == 7 and data.train_y[i] == 9:\n",
    "        print('Predicted label:', MNIST_Knn.classify(data.train_x[i]))\n",
    "        view_digit(data.train_x[i], data.train_y[i])\n",
    "        break"
   ]
  },
  {
   "cell_type": "code",
   "execution_count": 27,
   "metadata": {},
   "outputs": [
    {
     "name": "stdout",
     "output_type": "stream",
     "text": [
      "Predicted label: 3\n",
      "true label: 5\n"
     ]
    },
    {
     "data": {
      "image/png": "[encoded data removed]",
      "text/plain": [
       "<matplotlib.figure.Figure at 0x11d590f60>"
      ]
     },
     "metadata": {},
     "output_type": "display_data"
    }
   ],
   "source": [
    "for i in range(0, len(data.train_x)):\n",
    "    if MNIST_Knn.classify(data.train_x[i]) == 3 and data.train_y[i] == 5:\n",
    "        print('Predicted label:', MNIST_Knn.classify(data.train_x[i]))\n",
    "        view_digit(data.train_x[i], data.train_y[i])\n",
    "        break"
   ]
  },
  {
   "cell_type": "markdown",
   "metadata": {},
   "source": [
    "For the case of (9,7), if the loop in 9 is distorted, it looks more like 7.\n",
    "For the case of (5,3), the bottom half of 5 has a lot of similarity with the bottom half of 3. The top could also look similar if the images are distorted."
   ]
  },
  {
   "cell_type": "markdown",
   "metadata": {},
   "source": [
    "**Part D**: Now using the entire training dataset and best value of `k` found from previous analysis, plot test accuracy vs number of prototypes for reasonable values of p (more than 1000). What are the trade-offs you are making when using prototypes instead of all the training examples?"
   ]
  },
  {
   "cell_type": "code",
   "execution_count": 28,
   "metadata": {
    "collapsed": true
   },
   "outputs": [],
   "source": [
    "accuracy_vs_p = []\n",
    "for i in range(2,11,2):\n",
    "    MNIST_Knn = Knearest(data.train_x, data.train_y, 3, i*1000)\n",
    "    accuracy_vs_p.append(MNIST_Knn.accuracy(MNIST_Knn.confusion_matrix(data.test_x, data.test_y)))"
   ]
  },
  {
   "cell_type": "code",
   "execution_count": 29,
   "metadata": {},
   "outputs": [
    {
     "data": {
      "image/png": "[encoded data removed]",
      "text/plain": [
       "<matplotlib.figure.Figure at 0x11d9eac50>"
      ]
     },
     "metadata": {},
     "output_type": "display_data"
    }
   ],
   "source": [
    "x_axis = [i*1000 for i in range(2, 11, 2)]\n",
    "plt.plot(x_axis, accuracy_vs_p)\n",
    "plt.xlabel(\"No of prototypes\")\n",
    "plt.ylabel(\"Accuracy\")\n",
    "plt.show()"
   ]
  },
  {
   "cell_type": "markdown",
   "metadata": {},
   "source": [
    "The test accuracy increases with the number of prototypes as shown in the figure.\n",
    "When using prototypes instead of all the training examples, we are sacrificing a little bit of accuracy for a much faster running time."
   ]
  },
  {
   "cell_type": "markdown",
   "metadata": {},
   "source": [
    "### Perceptron - 10 points\n",
    "***\n",
    "Consider the IRIS dataset discussed in lecture. We have created a binary classification problem to determine whether a given flower is a setosa or not. To create this, we pre-processed the labels to create a label vector where setosa’s label is unchanged (i.e. its label is 1), but both versicolor and virginica are now labeled as -1. The data contains two out of the four attributes, petal width and petal length. This training data and the modified labels can be loaded using `IrisM` class. We are going to use this dataset for training a Perceptron classifier in subsequent problems. \n",
    "<br>\n",
    "\n",
    "![Samples of Iris Flowers](wide_iris.png \"Iris Dataset\")\n",
    "\n",
    "\n",
    "<br>"
   ]
  },
  {
   "cell_type": "code",
   "execution_count": 31,
   "metadata": {
    "ExecuteTime": {
     "end_time": "2018-08-31T22:13:40.515103Z",
     "start_time": "2018-08-31T22:13:40.505050Z"
    },
    "collapsed": true
   },
   "outputs": [],
   "source": [
    "class IrisM:\n",
    "    \"\"\"\n",
    "    Class to store modified iris data for Perceptron Training\n",
    "    \"\"\"\n",
    "    \n",
    "    def __init__(self):\n",
    "        from sklearn import datasets\n",
    "        \n",
    "        iris = datasets.load_iris()\n",
    "        \n",
    "        # only taking first two features\n",
    "        X = iris.data[:, :2]\n",
    "        y = iris.target[:]\n",
    "        \n",
    "        # only considering whether it is setosa or not\n",
    "        y[iris.target != 0] = -1\n",
    "        y[iris.target == 0] = 1\n",
    "        \n",
    "        mask = np.random.choice(a = [False, True], size = 150, p = (0.66, 1 - 0.66))\n",
    "        \n",
    "        self.train_x, self.train_y = X[mask], y[mask]\n",
    "        self.test_x, self.test_y = X[~mask], y[~mask]\n",
    "        \n",
    "        "
   ]
  },
  {
   "cell_type": "code",
   "execution_count": 57,
   "metadata": {
    "collapsed": true
   },
   "outputs": [],
   "source": [
    "iris = IrisM()"
   ]
  },
  {
   "cell_type": "markdown",
   "metadata": {},
   "source": [
    "The class below implements Perceptron classifier in Python on modified IRIS data. The `Peceptron` class implements a Perceptron classifier on a training set of n examples, each of which is  d dimensional vector. The labels for the examples are -1 or 1. This is a simple preceptron classifier seen in class where the linear separator passes through the origin i.e has offset parameter = 0. Your tasks are as following:\n",
    "1. Implement `train` function which trains a Perceptron classifier on a training set. The function should return $\\theta$, the final classification vector and the number of updates performed\n",
    "1. Implement `predict` function which takes an example as input and returns the predicted label\n",
    "1. Implement `margin` function which returns geometric margin of the classifier"
   ]
  },
  {
   "cell_type": "code",
   "execution_count": 58,
   "metadata": {
    "collapsed": true
   },
   "outputs": [],
   "source": [
    "class Perceptron:\n",
    "    \"\"\"\n",
    "    Perceptron Classifier\n",
    "    \"\"\"\n",
    "    \n",
    "    def __init__(self, X, y):\n",
    "        \"\"\"\n",
    "        Creates a perceptron instance\n",
    "\n",
    "        :param X: Training data input\n",
    "        :param y: Training data output\n",
    "        \"\"\"\n",
    "        self._X = X\n",
    "        self._y = y\n",
    "        self._theta, self._iter = self.train(X, y)\n",
    "        \n",
    "    def train(self, X, y):\n",
    "        \"\"\"\n",
    "        Train perceptron and return final classification vector and\n",
    "        the number of updates performed respectively\n",
    "        \n",
    "        :param X: Training data input\n",
    "        :param y: Training data output\n",
    "        \"\"\"\n",
    "        theta = np.zeros(np.shape(X)[1])\n",
    "        count = 0\n",
    "        y_pred = [1 if np.dot(theta, x)>0 else -1 for x in X]\n",
    "        \n",
    "        # Loop through, till all the examples are classified correctly\n",
    "        epoch = 1\n",
    "        while epoch <= 1000 and not(y == y_pred).all():\n",
    "            epoch += 1\n",
    "            for i in range(0, len(X)):\n",
    "                y_pred[i] = 1 if np.dot(theta, X[i]) > 0 else -1\n",
    "                if y_pred[i] != y[i]:\n",
    "                    theta = theta + y[i]*X[i]\n",
    "                    count += 1\n",
    "                    \n",
    "        print('Theta:', theta)\n",
    "        print('No of updates performed:', count)\n",
    "        return theta, count\n",
    "        \n",
    "    def predict(self, X):\n",
    "        \"\"\"\n",
    "        Predicts the label for input\n",
    "        \n",
    "        :param X: Testing data input\n",
    "        \"\"\"\n",
    "        return 1 if np.dot(self._theta, X) > 0 else -1\n",
    "        \n",
    "    def margin(self):\n",
    "        \"\"\"\n",
    "        Returns geometric margin of the classifier\n",
    "        \"\"\"\n",
    "        # Loop through all the data points to find the margin\n",
    "        _margin = float('Inf')\n",
    "        for i in range(0, len(self._X)):\n",
    "            _margin_temp = np.dot(self._theta, self._X[i])/np.linalg.norm(self._theta)\n",
    "            _margin = min(abs(_margin_temp), _margin)\n",
    "        return _margin\n",
    "    "
   ]
  },
  {
   "cell_type": "code",
   "execution_count": 59,
   "metadata": {
    "ExecuteTime": {
     "end_time": "2018-08-31T22:15:02.247890Z",
     "start_time": "2018-08-31T22:15:02.242423Z"
    }
   },
   "outputs": [
    {
     "name": "stderr",
     "output_type": "stream",
     "text": [
      "."
     ]
    },
    {
     "name": "stdout",
     "output_type": "stream",
     "text": [
      "Theta: [-1.  1.]\n",
      "No of updates performed: 2\n"
     ]
    },
    {
     "name": "stderr",
     "output_type": "stream",
     "text": [
      "\n",
      "----------------------------------------------------------------------\n",
      "Ran 1 test in 0.003s\n",
      "\n",
      "OK\n"
     ]
    },
    {
     "data": {
      "text/plain": [
       "<unittest.runner.TextTestResult run=1 errors=0 failures=0>"
      ]
     },
     "execution_count": 59,
     "metadata": {},
     "output_type": "execute_result"
    }
   ],
   "source": [
    "import unittest\n",
    "\n",
    "class TestPerceptron(unittest.TestCase):\n",
    "    def setUp(self):\n",
    "        self.x = np.array([[1, 2], [4, 5], [2, 1], [5, 4]])\n",
    "        self.y = np.array([+1, +1, -1, -1])\n",
    "        self.perceptron = Perceptron(self.x, self.y)\n",
    "        self.queries = np.array([[1, 5], [0, 3], [6, 4], [2, 2]])\n",
    "\n",
    "    def test0(self):\n",
    "        \"\"\"\n",
    "        Test Perceptron\n",
    "        \"\"\"\n",
    "        self.assertEqual(self.perceptron.predict(self.queries[0]),  1)\n",
    "        self.assertEqual(self.perceptron.predict(self.queries[1]),  1)\n",
    "        self.assertEqual(self.perceptron.predict(self.queries[2]), -1)\n",
    "        self.assertEqual(self.perceptron.predict(self.queries[3]), -1)\n",
    "        \n",
    "tests = TestPerceptron()\n",
    "tests_to_run = unittest.TestLoader().loadTestsFromModule(tests)\n",
    "unittest.TextTestRunner().run(tests_to_run)"
   ]
  },
  {
   "cell_type": "markdown",
   "metadata": {},
   "source": [
    "Now, we are going to using `IrisM` dataset to train a perceptron using `Perceptron` class."
   ]
  },
  {
   "cell_type": "markdown",
   "metadata": {},
   "source": [
    "**Part A:** From class we know that this data is linearly separable but the separator does not pass through the origin. Therefore you will need to follow the technique used in lecture to further pre-process the data to be linearly separable through the origin: for each data point, add an additional feature, set to a constant value (please use the value 1 for consistency). Then, use the `Perceptron` class to train a Perceptron classifier."
   ]
  },
  {
   "cell_type": "code",
   "execution_count": 60,
   "metadata": {},
   "outputs": [
    {
     "name": "stdout",
     "output_type": "stream",
     "text": [
      "Theta: [  5.  -12.4  18.9]\n",
      "No of updates performed: 45\n"
     ]
    }
   ],
   "source": [
    "iris_perceptron = Perceptron(np.insert(iris.train_x, 0, 1, axis=1), iris.train_y)"
   ]
  },
  {
   "cell_type": "markdown",
   "metadata": {},
   "source": [
    "**Part B:** What is the angle between Perceptron's classification vector and vector $(1, 0)^T$? Report number of iterations to converge and the accuracy on test set."
   ]
  },
  {
   "cell_type": "code",
   "execution_count": 61,
   "metadata": {},
   "outputs": [
    {
     "name": "stdout",
     "output_type": "stream",
     "text": [
      "The angle between Perceptron's classification vector and vector (1,0)^T is 103.06285315204292\n",
      "The number of iterations to converge: 45\n",
      "The accuracy on the test set is 0.9803921568627451\n"
     ]
    }
   ],
   "source": [
    "import math\n",
    "vec = np.array([1, 1, 0])\n",
    "cos_angle = (np.dot(iris_perceptron._theta, vec))/(np.linalg.norm(iris_perceptron._theta)* np.linalg.norm(vec))\n",
    "angle = math.degrees(math.acos(cos_angle))\n",
    "\n",
    "correct_classifications = 0\n",
    "for i in range(0, len(iris.test_x)):\n",
    "    if iris_perceptron.predict(np.insert(iris.test_x[i], 0, 1)) == iris.test_y[i]:\n",
    "        correct_classifications += 1\n",
    "        \n",
    "print(\"The angle between Perceptron's classification vector and vector (1,0)^T is\", angle)\n",
    "print(\"The number of iterations to converge:\", iris_perceptron._iter)\n",
    "print(\"The accuracy on the test set is\", correct_classifications/len(iris.test_x))"
   ]
  },
  {
   "cell_type": "markdown",
   "metadata": {},
   "source": [
    "**Part C:** Compute the geometric margins of your classifier with respect to the `IrisM` dataset used. Recall that the distance of a point from $x_t$ from the line $\\theta^T x = 0$ is $\\frac{\\theta^Tx_t}{||x||}$"
   ]
  },
  {
   "cell_type": "code",
   "execution_count": 64,
   "metadata": {},
   "outputs": [
    {
     "name": "stdout",
     "output_type": "stream",
     "text": [
      "The geometric margin of the classifier with respect to the IrisM dataset is 0.09416429362\n"
     ]
    }
   ],
   "source": [
    "print('The geometric margin of the classifier with respect to the IrisM dataset is', iris_perceptron.margin())"
   ]
  }
 ],
 "metadata": {
  "kernelspec": {
   "display_name": "Python 3",
   "language": "python",
   "name": "python3"
  },
  "language_info": {
   "codemirror_mode": {
    "name": "ipython",
    "version": 3
   },
   "file_extension": ".py",
   "mimetype": "text/x-python",
   "name": "python",
   "nbconvert_exporter": "python",
   "pygments_lexer": "ipython3",
   "version": "3.6.1"
  },
  "varInspector": {
   "cols": {
    "lenName": 16,
    "lenType": 16,
    "lenVar": 40
   },
   "kernels_config": {
    "python": {
     "delete_cmd_postfix": "",
     "delete_cmd_prefix": "del ",
     "library": "var_list.py",
     "varRefreshCmd": "print(var_dic_list())"
    },
    "r": {
     "delete_cmd_postfix": ") ",
     "delete_cmd_prefix": "rm(",
     "library": "var_list.r",
     "varRefreshCmd": "cat(var_dic_list()) "
    }
   },
   "types_to_exclude": [
    "module",
    "function",
    "builtin_function_or_method",
    "instance",
    "_Feature"
   ],
   "window_display": false
  }
 },
 "nbformat": 4,
 "nbformat_minor": 2
}
