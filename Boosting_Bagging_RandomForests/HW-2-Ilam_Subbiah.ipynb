{
 "cells": [
  {
   "cell_type": "markdown",
   "metadata": {},
   "source": [
    "# Homework - 2\n",
    "***\n",
    "**Name**: Ilamvazhuthy Subbiah\n",
    "***\n",
    "\n",
    "This assignment is due on Canvas by **5pm on Friday October 5th**. Submit only this Jupyter notebook to Canvas.  Do not compress it using tar, rar, zip, etc. Your solutions to analysis questions should be done in Markdown directly below the associated question.  Remember that you are encouraged to discuss the problems with your classmates and instructors, but **you must write all code and solutions on your own**, and list any people or sources consulted."
   ]
  },
  {
   "cell_type": "markdown",
   "metadata": {},
   "source": [
    "## Boosting - Extra Credit [5-points]\n",
    "***\n",
    "\n",
    "In this problem, we slightly modify the AdaBoost algorithm to better explore some properties of the algorithm. Specifically, we no longer normalize the weights on the training examples after each iteration. The modified algorithm, which is set to run for $T$ iterations, is shown in Algorithm I.\n",
    "\n",
    "Note that in the modified version, the weights associated with the training examples are no longer guaranteed to sum to one after each iteration (and therefore can not be viewed as a \"distribution\"), but the algorithm is still valid. Let us denote the sum of weights at the start of iteration $t$ by $Z_t = \\sum_{i=1}^{n}w_i^{(t)}$. At the start of the first iteration of boosting, $Z_1 = n$. Let us now investigate the behavior of $Z_t$, as a function of t\n",
    "\n",
    "![image](fig-1.png)"
   ]
  },
  {
   "cell_type": "markdown",
   "metadata": {},
   "source": [
    "**A:** At the $t^{th}$ iteration, we found a weak classifier that achieves a weighted training error $\\epsilon_t$. Show that the choice, $\\alpha_t = \\frac{1}{2}\\log\\frac{1 - \\epsilon_t}{\\epsilon_t}$ is the optimal in the sense that it minimizes $Z_{t+1}$\n",
    "\n",
    "*Hint: Look at $Z_{t+1}$ as function of $\\alpha$ and find the value of $\\alpha$ for which the function achieves the minimum. You may also find the following notational shorthand useful:\n",
    "\n",
    "$$W_t = \\sum_{i=1}^{n}w_i^{(t)}(1 - \\delta(y_i, h_t(x_i)))$$\n",
    "$$W_c = \\sum_{i=1}^{n}w_i^{(t)}(\\delta(y_i, h_t(x_i)))$$\n",
    "\n",
    "where $W_c$ is the total weight of the points classified correctly by $h_t$ and $W_t$ is the total weight of the misclassified points. $\\delta(y, h_t(x)) = 1$ whenever the label predicted by $h_t$ is correct and zero otherwise. The weights here are those available at the start of iteration $t$"
   ]
  },
  {
   "cell_type": "markdown",
   "metadata": {},
   "source": [
    "$$Z_{t+1}(\\alpha_{t}) = W_te^{(\\alpha_t)} + W_ce^{-\\alpha_t}$$\n",
    "\n",
    "Fot $Z_{t+1}$ to be the minimum, the derivative of $Z_{t+1}$ with respect to $\\alpha$ should be zero. So, we have\n",
    "\n",
    "$$\\frac{dZ_{t+1}}{d\\alpha_{t}} =  W_te^{\\alpha_t} - W_ce^{-\\alpha_t} = 0$$\n",
    "\n",
    "$$\\implies W_te^{\\alpha_t} = W_ce^{-\\alpha_t}$$\n",
    "\n",
    "$$\\implies e^{2\\alpha_t} = \\frac{W_c}{W_t}$$\n",
    "\n",
    "$$\\implies 2\\alpha_t = \\log\\frac{W_c}{W_t}$$\n",
    "\n",
    "And we have\n",
    "$$ W_c = Z_t(1-\\epsilon_t)\\quad and \\quad W_t = Z_t \\epsilon_t$$\n",
    "\n",
    "$$\\implies \\alpha_t = \\frac{1}{2}\\log\\frac{Z_t(1-\\epsilon_t)}{Z_t\\epsilon_t}$$\n",
    "\n",
    "$$\\implies \\alpha_t = \\frac{1}{2}\\log\\frac{1-\\epsilon_t}{\\epsilon_t}$$\n",
    "\n",
    "Taking the second derivative of $Z_{t+1}$ with respect to $\\alpha$, we have\n",
    "\n",
    "$$\\frac{d^2Z_{t+1}}{d{\\alpha_{t}}^2} =  W_te^{\\alpha_t} + W_ce^{-\\alpha_t} > 0$$\n",
    "\n",
    "Hence it is the minimum."
   ]
  },
  {
   "cell_type": "markdown",
   "metadata": {},
   "source": [
    "**B:** Show that the sum of weights $Z_t$ is monotonically decreasing as a function of $t$."
   ]
  },
  {
   "cell_type": "markdown",
   "metadata": {},
   "source": [
    "From part A, we have \n",
    "\n",
    "$$Z_{t+1} = W_te^{\\frac{1}{2}log\\frac{W_c}{W_t}} + W_ce^{-\\frac{1}{2}log\\frac{W_c}{W_t}}$$\n",
    "\n",
    "$$\\implies Z_{t+1} = W_t \\sqrt{\\frac{W_c}{W_t}} + W_c \\sqrt{\\frac{W_t}{W_c}}$$\n",
    "\n",
    "$$\\implies Z_{t+1} = 2\\sqrt{W_tW_c}$$\n",
    "\n",
    "so,\n",
    "\n",
    "$$Z_t - Z_{t+1} = W_c + W_t - 2\\sqrt{W_tW_c} = (\\sqrt{W_c}-\\sqrt{W_t})^2 \\geq 0$$\n",
    "\n",
    "Hence the sum of weights $Z_t$ monotonically decreases as t increases."
   ]
  },
  {
   "cell_type": "markdown",
   "metadata": {},
   "source": [
    "## Training Data\n",
    "***\n",
    "Please do not change this class"
   ]
  },
  {
   "cell_type": "code",
   "execution_count": 2,
   "metadata": {
    "collapsed": true
   },
   "outputs": [],
   "source": [
    "import numpy as np\n",
    "from sklearn.base import clone"
   ]
  },
  {
   "cell_type": "code",
   "execution_count": 3,
   "metadata": {
    "collapsed": true
   },
   "outputs": [],
   "source": [
    "class ThreesAndEights:\n",
    "    \"\"\"\n",
    "    Class to store MNIST data\n",
    "    \"\"\"\n",
    "\n",
    "    def __init__(self, location):\n",
    "\n",
    "        import pickle, gzip\n",
    "\n",
    "        # Load the dataset\n",
    "        f = gzip.open(location, 'rb')\n",
    "\n",
    "        # Split the data set \n",
    "#         X_train, y_train, X_valid, y_valid = pickle.load(f)\n",
    "        train_set, valid_set, test_set = pickle.load(f)\n",
    "    \n",
    "        X_train, y_train = train_set\n",
    "        X_valid, y_valid = valid_set\n",
    "\n",
    "        # Extract only 3's and 8's for training set \n",
    "        self.X_train = X_train[np.logical_or( y_train==3, y_train == 8), :]\n",
    "        self.y_train = y_train[np.logical_or( y_train==3, y_train == 8)]\n",
    "        self.y_train = np.array([1 if y == 8 else -1 for y in self.y_train])\n",
    "        \n",
    "        # Shuffle the training data \n",
    "        shuff = np.arange(self.X_train.shape[0])\n",
    "        np.random.shuffle(shuff)\n",
    "        self.X_train = self.X_train[shuff,:]\n",
    "        self.y_train = self.y_train[shuff]\n",
    "\n",
    "        # Extract only 3's and 8's for validation set \n",
    "        self.X_valid = X_valid[np.logical_or( y_valid==3, y_valid == 8), :]\n",
    "        self.y_valid = y_valid[np.logical_or( y_valid==3, y_valid == 8)]\n",
    "        self.y_valid = np.array([1 if y == 8 else -1 for y in self.y_valid])\n",
    "        \n",
    "        f.close()"
   ]
  },
  {
   "cell_type": "code",
   "execution_count": 310,
   "metadata": {
    "collapsed": true
   },
   "outputs": [],
   "source": [
    "data = ThreesAndEights(\"data/mnist.pklz\")"
   ]
  },
  {
   "cell_type": "markdown",
   "metadata": {},
   "source": [
    "Feel free to explore this data and get comfortable with it before proceeding further."
   ]
  },
  {
   "cell_type": "markdown",
   "metadata": {},
   "source": [
    "## Bagging\n",
    "Bootstrap aggregating, also called bagging, is a machine learning ensemble meta-algorithm designed to improve the stability and accuracy of machine learning algorithms used in statistical classification and regression. It also reduces variance and helps to avoid overfitting. Although it is usually applied to decision tree methods, it can be used with any type of method. Bagging is a special case of the model averaging approach.\n",
    "\n",
    "Given a standard training set $D$ of size n, bagging generates $N$ new training sets $D_i$, roughly each of size n * ratio, by sampling from $D$ uniformly and with replacement. By sampling with replacement, some observations may be repeated in each $D_i$ The $N$ models are fitted using the above $N$ bootstraped samples and combined by averaging the output (for regression) or voting (for classification). \n",
    "\n",
    "-Source [Wiki](https://en.wikipedia.org/wiki/Bootstrap_aggregating)"
   ]
  },
  {
   "cell_type": "markdown",
   "metadata": {},
   "source": [
    "## Implementing Bagging [5-points]\n",
    "***\n",
    "\n",
    "We've given you a skeleton of the class `BaggingClassifier` below which will train a classifier based on the decision trees as implemented by sklearn. Your tasks are as follows, please approach step by step to understand the code flow:\n",
    "* Implement `bootstrap` method which takes in two parameters (`X_train, y_train`) and returns a bootstrapped training set ($D_i$)\n",
    "* Implement `fit` method which takes in two parameters (`X_train, y_train`) and trains `N` number of base models on different bootstrap samples. You should call `bootstrap` method to get bootstrapped training data for each of your base model\n",
    "* Implement `voting` method which takes the predictions from learner trained on bootstrapped data points `y_hats` and returns final prediction as per majority rule. In case of ties, return either of the class randomly.\n",
    "* Implement `predict` method which takes in multiple data points and returns final prediction for each one of those. Please use the `voting` method to reach consensus on final prediction."
   ]
  },
  {
   "cell_type": "code",
   "execution_count": 201,
   "metadata": {
    "collapsed": true
   },
   "outputs": [],
   "source": [
    "from sklearn.tree import DecisionTreeClassifier\n",
    "import math\n",
    "from collections import Counter\n",
    "\n",
    "class BaggingClassifier:\n",
    "    def __init__(self, ratio = 0.20, N = 20, base=DecisionTreeClassifier(max_depth=4)):\n",
    "        \"\"\"\n",
    "        Create a new BaggingClassifier\n",
    "        \n",
    "        Args:\n",
    "            base (BaseEstimator, optional): Sklearn implementation of decision tree\n",
    "            ratio: ratio of number of data points in subsampled data to the actual training data\n",
    "            N: number of base estimator in the ensemble\n",
    "        \n",
    "        Attributes:\n",
    "            base (estimator): Sklearn implementation of decision tree\n",
    "            N: Number of decision trees\n",
    "            learners: List of models trained on bootstrapped data sample\n",
    "        \"\"\"\n",
    "        \n",
    "        assert ratio <= 1.0, \"Cannot have ratio greater than one\"\n",
    "        self.base = base\n",
    "        self.ratio = ratio\n",
    "        self.N = N\n",
    "        self.learners = []\n",
    "        \n",
    "    def fit(self, X_train, y_train):\n",
    "        \"\"\"\n",
    "        Train Bagging Ensemble Classifier on data\n",
    "        \n",
    "        Args:\n",
    "            X_train (ndarray): [n_samples x n_features] ndarray of training data   \n",
    "            y_train (ndarray): [n_samples] ndarray of data \n",
    "        \"\"\"\n",
    "        #TODO: Implement functionality to fit models on the bootstrapped samples\n",
    "        # cloning sklearn models:\n",
    "        # from sklearn.base import clone\n",
    "        # h = clone(self.base)\n",
    "        \n",
    "        for i in range(self.N):\n",
    "            h = clone(self.base)\n",
    "            X_bstrap, y_bstrap = self.bootstrap(X_train, y_train)\n",
    "            h.fit(X_bstrap, y_bstrap)\n",
    "            self.learners.append(h)\n",
    "        \n",
    "    def bootstrap(self, X_train, y_train):\n",
    "        \"\"\"\n",
    "        Args:\n",
    "            n (int): total size of the training data\n",
    "            X_train (ndarray): [n_samples x n_features] ndarray of training data   \n",
    "            y_train (ndarray): [n_samples] ndarray of data \n",
    "        \"\"\"\n",
    "        random_list = [i for i in range(0, len(X_train))]\n",
    "        np.random.shuffle(random_list)\n",
    "        \n",
    "        X_bstrap = np.array([X_train[random_list[i]] for i in range(0, math.floor(len(X_train)*self.ratio))])\n",
    "        y_bstrap = np.array([y_train[random_list[i]] for i in range(0, math.floor(len(y_train)*self.ratio))])\n",
    "        \n",
    "        return X_bstrap, y_bstrap\n",
    "        \n",
    "    \n",
    "    def predict(self, X):\n",
    "        \"\"\"\n",
    "        BaggingClassifier prediction for data points in X\n",
    "        \n",
    "        Args:\n",
    "            X (ndarray): [n_samples x n_features] ndarray of data \n",
    "            \n",
    "        Returns:\n",
    "            yhat (ndarray): [n_samples] ndarray of predicted labels {-1,1}\n",
    "        \"\"\"\n",
    "        #TODO: Using the individual classifiers trained predict the final prediction using voting mechanism\n",
    "        \n",
    "        # Get the prediction from individual classifiers\n",
    "        y_hats = []\n",
    "        for h in self.learners:\n",
    "            y_hats.append(h.predict(X))\n",
    "        y_hat = np.array(y_hats).T\n",
    "        \n",
    "        # Get the majority by voting\n",
    "        y_predict = []\n",
    "        for i in range(0, len(X)):\n",
    "            y_predict.append(self.voting(y_hat[i]))\n",
    "        \n",
    "        return y_predict\n",
    "            \n",
    "    \n",
    "    def voting(self, y_hats):\n",
    "        \"\"\"\n",
    "        Args:\n",
    "            y_hats (ndarray): [N] ndarray of data\n",
    "        Returns:\n",
    "            y_final : int, final prediction of the \n",
    "        \"\"\"\n",
    "        #TODO: Implement majority voting scheme and incase of ties return random label\n",
    "        return Counter(y_hats).most_common(1)[0][0]"
   ]
  },
  {
   "cell_type": "markdown",
   "metadata": {},
   "source": [
    "## BaggingClassifier for Handwritten Digit Recognition [5-points]\n",
    "***\n",
    "\n",
    "After you've successfully completed `BaggingClassifier` find the optimal values of `ratio`, `N` and `depth` using k-fold cross validation. You are allowed to use sklearn library to split your training data in folds. Use the data from `ThreesAndEights` class initialized variable `data`. \n",
    "\n",
    "Justify why those values are optimal.\n",
    "\n",
    "Report accuracy on the validation data using the optimal parameter values."
   ]
  },
  {
   "cell_type": "code",
   "execution_count": 322,
   "metadata": {},
   "outputs": [
    {
     "name": "stdout",
     "output_type": "stream",
     "text": [
      "The optimal ratio is 0.4\n",
      "The optimal N is 40\n",
      "The optimal depth is 20\n",
      "Average Accuracy on all folds with the optimal parameters is 0.9741528011789646\n"
     ]
    }
   ],
   "source": [
    "from sklearn.model_selection import KFold\n",
    "kf = KFold(3)\n",
    "ratio = [0.1, 0.2, 0.4, 0.8]\n",
    "N = [5, 10, 20, 40]\n",
    "depth = [5, 10, 20]\n",
    "max_accuracy = 0\n",
    "max_N = 0\n",
    "max_r =0\n",
    "max_d = 0\n",
    "for r in ratio:\n",
    "    for n in N:\n",
    "        for d in depth: \n",
    "            accuracy = []\n",
    "            for train, test in kf.split(data.X_train):\n",
    "                X_train, X_test, y_train, y_test = data.X_train[train], data.X_train[test], data.y_train[train], data.y_train[test]         \n",
    "                bagging_classifier = BaggingClassifier(r, n, DecisionTreeClassifier(max_depth=d) )\n",
    "                bagging_classifier.fit(X_train, y_train)\n",
    "                y_result = bagging_classifier.predict(X_test)\n",
    "                count = 0\n",
    "                for i in range(len(y_test)):\n",
    "                    if y_test[i] == y_result[i]:\n",
    "                        count += 1\n",
    "                #print(\"Accuracy on validation set = \", count/len(y_test))\n",
    "                accuracy.append(count/len(y_test))\n",
    "                avg_accuracy = sum(accuracy)/len(accuracy)\n",
    "                if  avg_accuracy > max_accuracy:\n",
    "                    max_accuracy = avg_accuracy\n",
    "                    max_r = r\n",
    "                    max_N = n\n",
    "                    max_d = d\n",
    "print(\"The optimal ratio is\", max_r)\n",
    "print(\"The optimal N is\", max_N)\n",
    "print(\"The optimal depth is\", max_d)\n",
    "print(\"Average Accuracy on all folds with the optimal parameters is\", max_accuracy )"
   ]
  },
  {
   "cell_type": "code",
   "execution_count": 332,
   "metadata": {},
   "outputs": [
    {
     "name": "stdout",
     "output_type": "stream",
     "text": [
      "The accuracy on the validation data using the optimal parameters is 0.9789112309955861\n"
     ]
    }
   ],
   "source": [
    "bagging_classifier = BaggingClassifier(0.4, 40, DecisionTreeClassifier(max_depth=20))\n",
    "bagging_classifier.fit(data.X_train, data.y_train)\n",
    "y_result = bagging_classifier.predict(data.X_valid)\n",
    "count = 0\n",
    "for i in range(len(data.y_valid)):\n",
    "    if data.y_valid[i] == y_result[i]:\n",
    "        count += 1\n",
    "accuracy = count/len(data.y_valid)\n",
    "print(\"The accuracy on the validation data using the optimal parameters is\", accuracy)"
   ]
  },
  {
   "cell_type": "markdown",
   "metadata": {},
   "source": [
    "The parameters are optimal beacause they hit the sweet spot between overfitting and underfitting."
   ]
  },
  {
   "cell_type": "markdown",
   "metadata": {},
   "source": [
    "# Random Decision Tree [10-points]\n",
    "\n",
    "In this assignment you are going to implement a random decision tree using random vector method as discussed in the lecture.\n",
    "\n",
    "Best split: One that achieves maximum reduction in gini index across multiple candidate splits. (decided by `candidate_splits` attribute of the class `RandomDecisionTree`)\n",
    "\n",
    "Use `TreeNode` class as node abstraction to build the tree\n",
    "\n",
    "You are allowed to add new attributes in the `TreeNode` and `RandomDecisionTree` class - if that helps.\n",
    "\n",
    "Your tasks are as follows:\n",
    "* Implement `gini_index` method which takes in class labels as parameter and returns the gini impurity as measure of uncertainty\n",
    "\n",
    "* Implement `majority` method which picks the most frequent class label. In case of tie return any random class label\n",
    "\n",
    "* Implement `find_best_split` method which finds the random vector/hyperplane which causes most reduction in the gini index. \n",
    "\n",
    "* Implement `build_tree` method which uses `find_best_split` method to get the best random split vector for current set of training points. This vector partitions the training points into two sets, and you should call `build_tree` method on two partitioned sets and build left subtree and right subtree. Use `TreeNode` as abstraction for a node.\n",
    "\n",
    "> The method calls itself recursively to the generate left and right subtree till the point either `max_depth` is reached or no good random split is found.  When either of two cases is encountered, you should make that node as leaf and identify the label for that leaf to be the most frequent class (use `majority` method). Go through lecture slides for better understanding\n",
    "\n",
    "* Implement `predict` method which takes in multiple data points and returns final prediction for each one of those using the tree built. (`root` attribute of the class)"
   ]
  },
  {
   "cell_type": "code",
   "execution_count": 303,
   "metadata": {
    "collapsed": true
   },
   "outputs": [],
   "source": [
    "class TreeNode:\n",
    "    def __init__(self):\n",
    "        self.left = None\n",
    "        self.right = None\n",
    "        self.isLeaf = False\n",
    "        self.label = None\n",
    "        self.split_vector = None\n",
    "\n",
    "    def getLabel(self):\n",
    "        if not self.isLeaf:\n",
    "            raise Exception(\"Should not to do getLabel on a non-leaf node\")\n",
    "        return self.label\n",
    "    \n",
    "class RandomDecisionTree:\n",
    "            \n",
    "    def __init__(self, candidate_splits = 100, depth = 10):\n",
    "        \"\"\"\n",
    "        Args:\n",
    "            candidate_splits (int) : number of random decision splits to test\n",
    "            depth (int) : maximum depth of the random decision tree\n",
    "        \"\"\"\n",
    "        self.candidate_splits = candidate_splits\n",
    "        self.depth = depth\n",
    "        self.root = None\n",
    "    \n",
    "    def fit(self, X_train, y_train):\n",
    "        \"\"\"\n",
    "        Args:\n",
    "            X_train (ndarray): [n_samples x n_features] ndarray of training data   \n",
    "            y_train (ndarray): [n_samples] ndarray of data\n",
    "            \n",
    "        \"\"\"\n",
    "        self.root = self.build_tree(X_train[:], y_train[:], 0)\n",
    "        return self\n",
    "        \n",
    "    def build_tree(self, X_train, y_train, height):\n",
    "        \"\"\"\n",
    "        Args:\n",
    "            X_train (ndarray): [n_samples x n_features] ndarray of training data   \n",
    "            y_train (ndarray): [n_samples] ndarray of data\n",
    "            \n",
    "        \"\"\"\n",
    "        node = TreeNode()\n",
    "        node.split_vector = self.find_best_split(X_train, y_train)\n",
    "        X_left =[]\n",
    "        X_right = []\n",
    "        y_left = []\n",
    "        y_right =[]\n",
    "        if node.split_vector is not None and height < self.depth:\n",
    "            y_split = np.dot(X_train, node.split_vector)\n",
    "            for i in range(0, len(y_split)):\n",
    "                if y_split[i] <=0:\n",
    "                    X_left.append(X_train[i])\n",
    "                    y_left.append(y_train[i])\n",
    "                else:\n",
    "                    X_right.append(X_train[i])\n",
    "                    y_right.append(y_train[i])\n",
    "            node.left = self.build_tree(X_left, y_left, height+1)\n",
    "            node.right = self.build_tree(X_right, y_right, height+1)\n",
    "        else:\n",
    "            node.isLeaf = True\n",
    "            node.label = self.majority(y_train)\n",
    "        return node\n",
    "    \n",
    "    def find_best_split(self, X_train, y_train):\n",
    "        \"\"\"\n",
    "        Args:\n",
    "            X_train (ndarray): [n_samples x n_features] ndarray of training data   \n",
    "            y_train (ndarray): [n_samples] ndarray of data\n",
    "            \n",
    "        \"\"\"\n",
    "        split_vector = None\n",
    "        gain = 0\n",
    "        for j in range(0, self.candidate_splits):\n",
    "            vec = np.zeros(len(X_train[0]))\n",
    "            \n",
    "            for i in range(len(X_train[0])):\n",
    "                vec[i] = (np.random.random_sample())*2 -1\n",
    "            y_left = []\n",
    "            y_right = []\n",
    "\n",
    "            y_split = np.dot(X_train, vec)\n",
    "            for i in range(0,len(y_split)):\n",
    "                if y_split[i] <=0:\n",
    "                    y_left.append(y_train[i])\n",
    "                else:\n",
    "                    y_right.append(y_train[i])\n",
    "\n",
    "            gain_temp = self.gini_index(y_train) - ((self.gini_index(y_left))*len(y_left) + (self.gini_index(y_right))*len(y_right))/len(y_train)\n",
    "            if gain_temp > gain:\n",
    "                split_vector = vec\n",
    "                gain = gain_temp\n",
    "        \n",
    "        return split_vector\n",
    "            \n",
    "        \n",
    "    def gini_index(self, y):\n",
    "        \"\"\"\n",
    "        Args:\n",
    "            y (ndarray): [n_samples] ndarray of data\n",
    "        \"\"\"\n",
    "        counts = {}\n",
    "        for label in y:\n",
    "            counts[label] = counts.get(label, 0) + 1\n",
    "        \n",
    "        gini_ix = 1\n",
    "        for label in counts:\n",
    "            gini_ix -= (counts[label]/len(y))**2\n",
    "            \n",
    "        return gini_ix\n",
    "        \n",
    "    \n",
    "    def majority(self, y):\n",
    "        \"\"\"\n",
    "        Return the major class in ndarray y\n",
    "        \"\"\"\n",
    "        return Counter(y).most_common(1)[0][0]\n",
    "    \n",
    "    def predict(self, X):\n",
    "        \"\"\"\n",
    "        BaggingClassifier prediction for new data points in X\n",
    "        \n",
    "        Args:\n",
    "            X (ndarray): [n_samples x n_features] ndarray of data \n",
    "            \n",
    "        Returns:\n",
    "            yhat (ndarray): [n_samples] ndarray of predicted labels {-1,1}\n",
    "        \"\"\"\n",
    "        yhat = []\n",
    "        for i in range(0, len(X)):\n",
    "            node = self.root\n",
    "            while(not node.isLeaf):\n",
    "                split_vector = node.split_vector\n",
    "                y_split = np.dot(split_vector, X[i])\n",
    "                if y_split <= 0:\n",
    "                    node = node.left\n",
    "                    split_vector = node.split_vector\n",
    "                else:\n",
    "                    node = node.right\n",
    "                    split_vector = node.split_vector\n",
    "            yhat.append(node.getLabel())\n",
    "        return np.array(yhat)"
   ]
  },
  {
   "cell_type": "markdown",
   "metadata": {},
   "source": [
    "## RandomDecisionTree for Handwritten Digit Recognition\n",
    "\n",
    "After you've successfully completed `RandomDecisionTree`, and train using the default values in the constructor and report accuracy on the test set. Use the data from `ThreesAndEights` class initialized variable `data` "
   ]
  },
  {
   "cell_type": "code",
   "execution_count": 306,
   "metadata": {},
   "outputs": [
    {
     "data": {
      "text/plain": [
       "<__main__.RandomDecisionTree at 0x114f18ba8>"
      ]
     },
     "execution_count": 306,
     "metadata": {},
     "output_type": "execute_result"
    }
   ],
   "source": [
    "tree = RandomDecisionTree()\n",
    "tree.fit(data.X_train, data.y_train)"
   ]
  },
  {
   "cell_type": "code",
   "execution_count": 307,
   "metadata": {},
   "outputs": [
    {
     "name": "stdout",
     "output_type": "stream",
     "text": [
      "Accuracy on validation set =  0.8930848455125061\n"
     ]
    }
   ],
   "source": [
    "y_tree = tree.predict(data.X_valid)\n",
    "count = 0\n",
    "for i in range(len(data.y_valid)):\n",
    "    if data.y_valid[i] == y_tree[i]:\n",
    "        count += 1\n",
    "print(\"Accuracy on validation set = \", count/len(data.y_valid))"
   ]
  },
  {
   "cell_type": "markdown",
   "metadata": {},
   "source": [
    "# Random Forest [5-points]\n",
    "Random forests or random decision forests are an ensemble learning method for classification, regression and other tasks, that operate by constructing a multitude of decision trees at training time and outputting the class that is the mode of the classes (classification) or mean prediction (regression) of the individual trees. Random decision forests correct for decision trees' habit of overfitting to their training set.\n",
    "\n",
    "Random forest trains random decision trees on bootstrapped training points. Thus, you can implementation of methods (`bootstrap`, `predict`) from `BaggingClassifier` class directly. Only difference being, you have to use the `RandomDecisionTree` as base which you implemented previously instead of sklearn's implementation of `DecisionTreeClassifier`). Implement the `fit` method in the class below accordingly."
   ]
  },
  {
   "cell_type": "code",
   "execution_count": 308,
   "metadata": {
    "collapsed": true
   },
   "outputs": [],
   "source": [
    "class RandomForest(BaggingClassifier):\n",
    "    def __init__(self, ratio = 0.20, N = 20, max_depth = 10, candidate_splits = 100):\n",
    "        self.ratio = ratio\n",
    "        self.N = N\n",
    "        self.learners = []\n",
    "        self.candidate_splits = candidate_splits\n",
    "        self.max_depth = max_depth\n",
    "        \n",
    "    def fit(self, X_train, y_train):\n",
    "        \"\"\"\n",
    "        Train Bagging Ensemble Classifier on data\n",
    "        \n",
    "        Args:\n",
    "            X_train (ndarray): [n_samples x n_features] ndarray of training data   \n",
    "            y_train (ndarray): [n_samples] ndarray of data \n",
    "        \"\"\"\n",
    "        for i in range(self.N):\n",
    "            h = RandomDecisionTree()\n",
    "            X_bstrap, y_bstrap = self.bootstrap(X_train, y_train)\n",
    "            h.fit(X_bstrap, y_bstrap)\n",
    "            self.learners.append(h)\n",
    "        "
   ]
  },
  {
   "cell_type": "markdown",
   "metadata": {},
   "source": [
    "## RandomForest for Handwritten Digit Recognition [5-points]\n",
    "***\n",
    "\n",
    "After you've successfully completed `RandomForest` find the optimal values of `ratio`, `N`, `candidate_splits` and `depth` using k-fold cross validation on. Feel free to use sklearn library to split your training data. Use the data from `ThreesAndEights` class intialized variable `data`. \n",
    "\n",
    "Justify why those values are optimal.\n",
    "\n",
    "Report best accuracy on the testing data using those optimal parameter values."
   ]
  },
  {
   "cell_type": "code",
   "execution_count": 309,
   "metadata": {},
   "outputs": [
    {
     "name": "stdout",
     "output_type": "stream",
     "text": [
      "Accuracy on validation set =  0.9658119658119658\n",
      "Accuracy on validation set =  0.9507290095525389\n",
      "Accuracy on validation set =  0.9552538964303671\n",
      "Accuracy on validation set =  0.9456740442655935\n",
      "Accuracy on validation set =  0.954728370221328\n"
     ]
    }
   ],
   "source": [
    "kf = KFold(5)\n",
    "for train, test in kf.split(data.X_train):\n",
    "    X_train, X_test, y_train, y_test = data.X_train[train], data.X_train[test], data.y_train[train], data.y_train[test]\n",
    "    bagging_classifier = RandomForest()\n",
    "    bagging_classifier.fit(X_train, y_train)\n",
    "    y_result = bagging_classifier.predict(X_test)\n",
    "    count = 0\n",
    "    for i in range(len(y_test)):\n",
    "        if y_test[i] == y_result[i]:\n",
    "            count += 1\n",
    "    print(\"Accuracy on validation set = \", count/len(y_test))"
   ]
  },
  {
   "cell_type": "markdown",
   "metadata": {},
   "source": [
    "The above accuracies are on the test set. I did not have the time change the print statement and run it again."
   ]
  },
  {
   "cell_type": "code",
   "execution_count": 336,
   "metadata": {},
   "outputs": [
    {
     "name": "stdout",
     "output_type": "stream",
     "text": [
      "The optimal ratio is 0.4\n",
      "The optimal N is 10\n",
      "The optimal depth is 10\n",
      "The optimal candidate splits is 100\n",
      "Average Accuracy on all folds with the optimal parameters is 0.9705882352941176\n"
     ]
    }
   ],
   "source": [
    "ratio = [0.2, 0.4, 0.8]\n",
    "N = [10, 20, 40]\n",
    "depth = [5, 10]\n",
    "splits = [20, 50, 100]\n",
    "max_accuracy = 0\n",
    "max_N = 0\n",
    "max_r =0\n",
    "max_d = 0\n",
    "max_split = 0\n",
    "kf = KFold(3)\n",
    "for r in ratio:\n",
    "    for n in N:\n",
    "        for d in depth:\n",
    "            for s in splits:\n",
    "                accuracy = []\n",
    "                for train, test in kf.split(data.X_train[:100]):\n",
    "                    X_train, X_test, y_train, y_test = data.X_train[train], data.X_train[test], data.y_train[train], data.y_train[test]\n",
    "                    bagging_classifier = RandomForest(r, n, d, s)\n",
    "                    bagging_classifier.fit(X_train, y_train)\n",
    "                    y_result = bagging_classifier.predict(X_test)\n",
    "                    count = 0\n",
    "                    for i in range(len(y_test)):\n",
    "                        if y_test[i] == y_result[i]:\n",
    "                            count += 1\n",
    "                    accuracy.append(count/len(y_test))\n",
    "                    avg_accuracy = sum(accuracy)/len(accuracy)\n",
    "                    if  avg_accuracy > max_accuracy:\n",
    "                        max_accuracy = avg_accuracy\n",
    "                        max_r = r\n",
    "                        max_N = n\n",
    "                        max_d = d\n",
    "                        max_split = s\n",
    "print(\"The optimal ratio is\", max_r)\n",
    "print(\"The optimal N is\", max_N)\n",
    "print(\"The optimal depth is\", max_d)\n",
    "print(\"The optimal candidate splits is\", max_split)\n",
    "print(\"Average Accuracy on all folds with the optimal parameters is\", max_accuracy )"
   ]
  },
  {
   "cell_type": "code",
   "execution_count": null,
   "metadata": {},
   "outputs": [],
   "source": [
    "rf_classifier = RandomForest(0.4, 20, 10, 100)\n",
    "rf_classifier.fit(data.X_train, data.y_train)\n",
    "y_result = rf_classifier.predict(data.X_valid)\n",
    "count = 0\n",
    "for i in range(len(data.y_valid)):\n",
    "    if data.y_valid[i] == y_result[i]:\n",
    "        count += 1\n",
    "accuracy = count/len(data.y_valid)\n",
    "print(\"The accuracy on the validation data using the optimal parameters is\", accuracy)"
   ]
  },
  {
   "cell_type": "markdown",
   "metadata": {},
   "source": [
    "The parameters are optimal beacause the variance is low and they hit the sweet spot between overfitting and underfitting."
   ]
  }
 ],
 "metadata": {
  "kernelspec": {
   "display_name": "Python 3",
   "language": "python",
   "name": "python3"
  },
  "language_info": {
   "codemirror_mode": {
    "name": "ipython",
    "version": 3
   },
   "file_extension": ".py",
   "mimetype": "text/x-python",
   "name": "python",
   "nbconvert_exporter": "python",
   "pygments_lexer": "ipython3",
   "version": "3.6.1"
  },
  "varInspector": {
   "cols": {
    "lenName": 16,
    "lenType": 16,
    "lenVar": 40
   },
   "kernels_config": {
    "python": {
     "delete_cmd_postfix": "",
     "delete_cmd_prefix": "del ",
     "library": "var_list.py",
     "varRefreshCmd": "print(var_dic_list())"
    },
    "r": {
     "delete_cmd_postfix": ") ",
     "delete_cmd_prefix": "rm(",
     "library": "var_list.r",
     "varRefreshCmd": "cat(var_dic_list()) "
    }
   },
   "types_to_exclude": [
    "module",
    "function",
    "builtin_function_or_method",
    "instance",
    "_Feature"
   ],
   "window_display": false
  }
 },
 "nbformat": 4,
 "nbformat_minor": 2
}
