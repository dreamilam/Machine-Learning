{
 "cells": [
  {
   "cell_type": "markdown",
   "metadata": {},
   "source": [
    "# Homework - 4\n",
    "***\n",
    "**Name**: Ilamvazhuthy Subbiah\n",
    "***\n",
    "\n",
    "This assignment is due on Canvas by **5pm on Friday November 16th**. Submit only this Jupyter notebook to Canvas.  Do not compress it using tar, rar, zip, etc. Your solutions to analysis questions should be done in Markdown directly below the associated question.  Remember that you are encouraged to discuss the problems with your classmates and instructors, but **you must write all code and solutions on your own**, and list any people or sources consulted."
   ]
  },
  {
   "cell_type": "markdown",
   "metadata": {},
   "source": [
    "## Kernels [5 - points]"
   ]
  },
  {
   "cell_type": "markdown",
   "metadata": {},
   "source": [
    "**Q:** We have seen two different definitions of kernels during the course:\n",
    "* Definition 1: $K(x, x^{\\prime})$ is a kernel if it can be written as an inner product $\\phi(x)^T\\phi(x^{\\prime})$ for some feature mapping $x \\rightarrow \\phi(x)$.\n",
    "* Definition 2: $K(x, x^{\\prime})$ is a kernel if for any finite set of training examples $x_1, \\cdots, x_n$, the $n \\times n$ matrix __K__ such that $K_{ij} = K(x_i, x_j)$ is positive semidefinite\n",
    "\n",
    "Show that definition 1 implies definition 2.\n",
    "\n",
    "_Hint:_ you could show this by proving that for real numbers $\\alpha_1, \\cdots, \\alpha_n$ and points $x_1, \\cdots, x_n$,\n",
    "$$ \\sum_{i=1}^n\\sum_{j=1}^n\\alpha_i\\alpha_jK(x_i, x_j) \\geq 0$$\n",
    "if the kernel can be written as $K(x, x^{\\prime}) = \\phi(x)^T\\phi(x^{\\prime})$"
   ]
  },
  {
   "cell_type": "markdown",
   "metadata": {},
   "source": [
    "> The matrix $K$ is positive semidefinite if $K$ is symmetric and $\\alpha^T K \\alpha \\geq 0$, where $\\alpha$ is a vector of size $n$ of any real numbers.\n",
    "\n",
    "> $$K_{ij} = K(x_i, x_j) = \\phi(x_i)^T\\phi(x_j) = \\phi(x_j)^T\\phi(x_i) = K(x_j, x_i)$$\n",
    "Hence $K$ is symmetric.\n",
    "\n",
    "> $$\\alpha^T K \\alpha = \\sum_{i=1}^n\\sum_{j=1}^n\\alpha_i\\alpha_jK(x_i, x_j)$$\n",
    "\n",
    ">By Definition 1, we have\n",
    "\n",
    "> $$\\implies \\alpha^T K \\alpha = \\sum_{i=1}^n\\sum_{j=1}^n\\alpha_i\\alpha_j\\phi(x_i)^T \\phi(x_j)$$\n",
    "\n",
    "> $$\\implies \\alpha^T K \\alpha = \\bigg(\\sum_{i=1}^n\\alpha_i\\phi(x_i)^T \\bigg)\\bigg(\\sum_{j=1}^n\\alpha_j\\phi(x_j)\\bigg)$$\n",
    "\n",
    "> $$\\implies \\alpha^T K \\alpha = \\bigg|\\bigg|\\bigg(\\sum_{j=1}^n\\alpha_j\\phi(x_j) \\bigg)\\bigg|\\bigg|^2 \\geq 0$$\n",
    "\n",
    ">Therefore, $K$ is positive semidefinite. Hence, definition 1 implies definition 2."
   ]
  },
  {
   "cell_type": "markdown",
   "metadata": {},
   "source": [
    "**Q:** One way to construct kernels is to build them from simpler ones. We have already seen three possible \"composition rules\": assuming $K_1(x, x^\\prime)$ and $K_2(x, x^\\prime)$ are kernels, then the following are also kernels:\n",
    "* (scaling) $f(x)K_1(x, x^\\prime)f(x^\\prime), \\ f(x) \\in \\mathbb R$\n",
    "* (sum) $K_1(x, x^\\prime) + K_2(x, x^\\prime)$\n",
    "* (product) $K_1(x, x^\\prime)K_2(x, x^\\prime)$\n",
    "\n",
    "(a) Let $\\phi^{(1)}(x)$ and $\\phi^{(2)}(x)$ be the feature vectors corresponding to kernels $K_1(x, x^\\prime)$ and $K_2(x, x^\\prime)$, respectively. These feature vectors may be of different length. Show that the product $K_1(x, x^\\prime)K_2(x, x^\\prime)$ is a kernel by showing that its feature vectors are given by $\\phi(x)$ whose $(i, j)^{th}$ component (double indexed vector) is $\\phi_i^{(1)}(x)\\phi_j^{(2)}(x)$.\n",
    "\n",
    "(b) Use the composition rules to build a normalized cubic polynomial kernel defined as:\n",
    "$$K(x, x^\\prime) = \\bigg( 1 + \\bigg(\\frac{x}{||x||}\\bigg)^T\\bigg(\\frac{x^\\prime}{||x^\\prime||}\\bigg)\\bigg)^3$$\n",
    "\n",
    "You can assume that you already have a constant kernel $K_0(x, x^\\prime) = 1$ and a linear kernel $K_1(x, x^\\prime) = x^Tx^\\prime$. Identify which rules you are employing at each step."
   ]
  },
  {
   "cell_type": "markdown",
   "metadata": {},
   "source": [
    "> (a) Assuming $\\phi^{(1)}(x) \\in \\mathbb R^n$ and $\\phi^{(2)}(x) \\in \\mathbb R^m$, we have\n",
    "\n",
    ">$$K_1(x, x') = \\phi^{(1)}(x)^T\\phi^{(1)}(x') = \\sum_{i=1}^n\\phi_i^{(1)}(x)\\phi_i^{(1)}(x')$$\n",
    "\n",
    ">Similarly,\n",
    "\n",
    ">$$K_2(x, x') = \\phi^{(2)}(x)^T\\phi^{(2)}(x') = \\sum_{j=1}^m\\phi_j^{(2)}(x)\\phi_j^{(2)}(x')$$\n",
    "\n",
    ">$$\\implies K_1(x, x')K_2(x, x') = \\sum_{i=1}^n\\phi_i^{(1)}(x)\\phi_i^{(1)}(x') \\sum_{j=1}^m\\phi_j^{(2)}(x)\\phi_j^{(2)}(x')$$\n",
    "\n",
    ">$$\\implies K_1(x, x')K_2(x, x') = \\sum_{i=1}^n\\sum_{j=1}^m\\bigg(\\phi_i^{(1)}(x) \\phi_j^{(2)}(x)\\bigg)\\bigg(\\phi_i^{(1)}(x') \\phi_j^{(2)}(x')\\bigg)$$\n",
    "\n",
    ">$$\\implies K_1(x, x')K_2(x, x') = \\sum_{k=1}^{n\\times m}\\phi_k(x) \\phi_k(x') = \\phi(x)^T\\phi(x')$$\n",
    "\n",
    ">where $\\phi_k(x) = \\phi_i^{(1)}(x)\\phi_j^{(2)}(x)$ and $k = i\\times j$. Hence, the product $K_1(x, x')K_2(x, x')$ is a kernel."
   ]
  },
  {
   "cell_type": "markdown",
   "metadata": {},
   "source": [
    ">(b) Scaling: \n",
    "\n",
    ">$$f(x) = \\frac{1}{||x||}$$\n",
    "\n",
    ">$$K_2(x,x') = \\frac{1}{||x||}K_1(x,x')\\frac{1}{||x'||} = \\bigg(\\frac{x}{||x||}\\bigg)^T\\bigg(\\frac{x^\\prime}{||x^\\prime||}\\bigg)$$\n",
    "\n",
    ">Sum:\n",
    "\n",
    ">$$K_3(x, x') = K_0(x, x') + K_2(x, x') = \\bigg( 1 + \\bigg(\\frac{x}{||x||}\\bigg)^T\\bigg(\\frac{x^\\prime}{||x^\\prime||}\\bigg)\\bigg)$$\n",
    "\n",
    ">Product: \n",
    "\n",
    ">$$K_4(x, x') = K_3(x, x') K_3(x, x')$$\n",
    "\n",
    ">Therefore,\n",
    "\n",
    ">$$K(x,x') = K_4(x, x') K_3(x, x') = \\bigg( 1 + \\bigg(\\frac{x}{||x||}\\bigg)^T\\bigg(\\frac{x^\\prime}{||x^\\prime||}\\bigg)\\bigg)^3$$"
   ]
  },
  {
   "cell_type": "markdown",
   "metadata": {},
   "source": [
    "## Vapnik–Chervonenkis Dimension [ 5 - points]"
   ]
  },
  {
   "cell_type": "markdown",
   "metadata": {},
   "source": [
    "**Q:** Let the input space be the real line, and let $H$ be the hypothesis class of _intervals_. That is, each hypothesis $h$ is associated with a close interval $[a, b]$, for some constants $a \\leq b$, and $h(x)$ = $1$ if and only if _x_ lies within this interval, and $0$ otherwise. What is the VC dimension of $H$? Prove that your answer is correct."
   ]
  },
  {
   "cell_type": "markdown",
   "metadata": {},
   "source": [
    "> We can easily see that $H$ can shatter 2 points. Consider, $x_1 \\leq x_2$. The possible labellings are \n",
    "\n",
    ">$$y = (1, 1) \\implies a \\leq x_1 \\leq x_2 \\leq b$$\n",
    ">$$y = (1, 0) \\implies a \\leq x_1 \\leq b < x_2$$\n",
    ">$$y = (0, 1) \\implies x_1 < a \\leq x_2 \\leq b$$\n",
    ">$$y = (0, 0) \\implies x_1 \\leq x_2 < a \\leq b \\,or\\, a \\leq b < x_1 \\leq x_2$$\n",
    "\n",
    "> Hence the $VCdim(H) \\geq 2$.\n",
    "\n",
    ">Now we can show that $VCdim(H) <3$.\n",
    "\n",
    "> Let $x_1, x_2, x_3$ be arbitrary points on the real line such that $x_1 \\leq x_2 \\leq x_3$. Let $y = (1, 0, 1)$ be the labelling of the points.\n",
    "\n",
    "> Let's assume there is a hypothesis $h$ that can shatter the three points.\n",
    "\n",
    ">$$y_1 = 1 \\implies a \\leq x_1$$\n",
    "\n",
    ">$$Y_3 = 1 \\implies x_3 \\leq b$$\n",
    "\n",
    ">We also have, \n",
    "\n",
    ">$$x_1 \\leq x_2 \\leq x_3$$\n",
    "\n",
    ">Therefore, \n",
    "\n",
    ">$$a \\leq x_1 \\leq x_2 \\leq x_3 \\leq b$$\n",
    "\n",
    ">This means $y_2 = 1$ as well. But $y_2 = 0$, which is a contradiction. Hence, the three points cannot be shattered by the hypothesis class $H$. Hence the VC dimension of $H$ is 2.\n"
   ]
  },
  {
   "cell_type": "markdown",
   "metadata": {},
   "source": [
    "**Q:** Let the input space be the real line, and let $H$ be the hypothesis class of _unions of k intervals_. That is, each hypothesis $h$ is associated with *k* closed intervals $[a_1, b_1], \\cdots, [a_k, b_k]$ (for constants $a_1 \\leq b_1 \\leq \\cdots \\leq a_k \\leq b_k$); and $h(x) = 1$ if and only if _x_ lies in the union of these intervals, and $0$ otherwise. What is the VC dimension of $H$? Justify your answer."
   ]
  },
  {
   "cell_type": "markdown",
   "metadata": {},
   "source": [
    ">We can easily see that $2k$ points can be shattered using k intervals as we can shatter each of the k pairs of consecutive points with an interval.\n",
    "\n",
    ">But, If we have $2k+1$ points labelled alternatively (starting with a label of 1), we cannot shatter them using the k intervals.\n",
    "\n",
    "> Hence, the VC dimension of H is $2k$. "
   ]
  },
  {
   "cell_type": "markdown",
   "metadata": {},
   "source": [
    "## LASSO and Ridge regression - [15 points]"
   ]
  },
  {
   "cell_type": "markdown",
   "metadata": {},
   "source": [
    "We have seen that the difference between LASSO and Ridge regression is due to their different regularization model (L1 norm vs. L2 norm). The regularization term in LASSO is $\\lambda||\\mathbf w||_1$, while the regularization term in ridge regression is  $(\\lambda/2)||\\mathbf w||^2$ (where $\\mathbf w$ denotes the set of parameters for the linear regression model and $\\lambda$ is the trade-off regularization parameter). LASSO typically enforces more _sparsity_ on the resulting $\\mathbf w$. That is, the resulting classifier will have a small number of non-zero weights. In this exercise, you'll explore differences in performance between LASSO and Ridge regression algorithms.\n",
    "\n",
    "You will be using the following data sets:"
   ]
  },
  {
   "cell_type": "code",
   "execution_count": 3,
   "metadata": {
    "ExecuteTime": {
     "end_time": "2018-10-30T23:46:14.931653Z",
     "start_time": "2018-10-30T23:46:14.919868Z"
    },
    "collapsed": true
   },
   "outputs": [],
   "source": [
    "import numpy as np\n",
    "import matplotlib.pyplot as plt\n",
    "import pandas as pd\n",
    "%matplotlib inline\n",
    "class DataA:\n",
    "    def __init__(self):\n",
    "        f = lambda x, y : np.random.randn(x, y)\n",
    "        self.train_x = f(1000, 20)\n",
    "        self.train_y = f(1000, 1)\n",
    "        self.test_x = f(500, 20)\n",
    "        self.test_y = f(500, 1)\n",
    "        \n",
    "class DataB:\n",
    "    def __init__(self):\n",
    "        # Data from: https://archive.ics.uci.edu/ml/datasets/Cloud\n",
    "        data = np.fromfile(\"data/cloud.data\", sep = \" \").reshape((1024, 10))\n",
    "        y = data[:, 6]\n",
    "        X = np.delete(data, 6, axis = 1)\n",
    "        \n",
    "        self.train_x = X[:800]\n",
    "        self.train_y = y[:800]\n",
    "        \n",
    "        self.test_x = X[800:]\n",
    "        self.test_y = y[800:]\n",
    "        \n",
    "class DataC:\n",
    "    def __init__(self):\n",
    "        # Data from: http://archive.ics.uci.edu/ml/datasets/Forest+Fires\n",
    "        data = pd.read_csv(\"data/forestfires.csv\")\n",
    "        data = data.sample(frac = 1).reset_index(drop = True).drop(columns = [\"month\", \"day\"])\n",
    "        data[\"area\"] = np.log(data[\"area\"] + 1)\n",
    "        X = data.drop(columns = \"area\").values\n",
    "        y = data[\"area\"].values\n",
    "        \n",
    "        self.train_x = X[:400]\n",
    "        self.train_y = y[:400]\n",
    "        \n",
    "        self.test_x = X[400:]\n",
    "        self.test_y = y[400:]"
   ]
  },
  {
   "cell_type": "code",
   "execution_count": 4,
   "metadata": {
    "ExecuteTime": {
     "end_time": "2018-10-30T23:46:15.615043Z",
     "start_time": "2018-10-30T23:46:15.513926Z"
    },
    "collapsed": true
   },
   "outputs": [],
   "source": [
    "data_a = DataA()\n",
    "data_b = DataB()\n",
    "data_c = DataC()"
   ]
  },
  {
   "cell_type": "markdown",
   "metadata": {},
   "source": [
    "**For each of the data sets (DataA, DataB, DataC) above, answer the following questions:** "
   ]
  },
  {
   "cell_type": "markdown",
   "metadata": {},
   "source": [
    "1. Fit a regressor to the data set using the sklearn's `Lasso` module (for more details, read [here](http://scikit-learn.org/stable/modules/generated/sklearn.linear_model.Lasso.html)):\n",
    "    1. Train a LASSO model using 5 different values for the regularization parameter $\\lambda$. Use $\\lambda = 0.01, 0.05, 0.1, 0.2, 0.3$. Report and plot the number of non-zero coefficients.\n",
    "    2. Report the value of $\\lambda$ that yields the minimum number of non-zero coefficients in the resulting $\\mathbf w$, and report the number of non-zero coefficients in that case. Keep track of this $\\mathbf w$, we will refer to it as $\\mathbf w_b$. [This step is only needed if any $\\mathbf{w}$ has coefficients that are 0.]\n",
    "    3. For each of the classifiers learned in part (A), compute their test error as mean-squared-error. Plot the test error as function of $\\lambda$.\n",
    "    4. Report the value of $\\lambda$ that yields the $\\mathbf w$ with the minimum test error. Save this $\\mathbf w$ as $\\mathbf w_d$. How many non-zero coordinates does $\\mathbf w_d$ have? Keep track of this, as well as the answers for $\\mathbf w_b$ for the comparison to Ridge Regression below. It might be helpful to make a table, i.e. the number of non-zero coordinates and the test error for $\\mathbf w_b$ and $\\mathbf w_d$ for each data set.\n",
    "    5. For data set A, by increasing the value of $\\lambda$, can you get most of the entries to be 0? Can you get every entry to be 0?\n",
    "    \n",
    "Note: $\\lambda$ is same as $\\alpha$ in the sklearn module."
   ]
  },
  {
   "cell_type": "code",
   "execution_count": 5,
   "metadata": {},
   "outputs": [],
   "source": [
    "# Part A - Create models and fit\n",
    "\n",
    "from sklearn import linear_model\n",
    "lamb = [0.01, 0.05, 0.1, 0.2, 0.3]\n",
    "\n",
    "clf_a = []\n",
    "clf_b = []\n",
    "clf_c = []\n",
    "for i in range(len(lamb)):\n",
    "    clf_a.append(linear_model.Lasso(alpha = lamb[i]))\n",
    "    clf_b.append(linear_model.Lasso(alpha = lamb[i]))\n",
    "    clf_c.append(linear_model.Lasso(alpha = lamb[i]))\n",
    "\n",
    "for i in range(len(lamb)):\n",
    "    clf_a[i].fit(data_a.train_x, data_a.train_y)\n",
    "    clf_b[i].fit(data_b.train_x, data_b.train_y)\n",
    "    clf_c[i].fit(data_c.train_x, data_c.train_y)    "
   ]
  },
  {
   "cell_type": "code",
   "execution_count": 6,
   "metadata": {
    "collapsed": true
   },
   "outputs": [],
   "source": [
    "# Part A - Find the number of non-zero coefficients for all three datasets for all values of lambda\n",
    "\n",
    "non_zero_coeff = {}\n",
    "non_zero_coeff['a'] = []\n",
    "non_zero_coeff['b'] = []\n",
    "non_zero_coeff['c'] = []\n",
    "for i in range(len(lamb)):\n",
    "    count = 0\n",
    "    for c in clf_a[i].coef_:\n",
    "        if c != 0:\n",
    "            count += 1\n",
    "    non_zero_coeff['a'].append(count)\n",
    "    \n",
    "    count = 0\n",
    "    for c in clf_b[i].coef_:\n",
    "        if c != 0:\n",
    "            count += 1\n",
    "    non_zero_coeff['b'].append(count)\n",
    "    \n",
    "    count = 0\n",
    "    for c in clf_c[i].coef_:\n",
    "        if c != 0:\n",
    "            count += 1\n",
    "    non_zero_coeff['c'].append(count)"
   ]
  },
  {
   "cell_type": "code",
   "execution_count": 7,
   "metadata": {},
   "outputs": [
    {
     "name": "stdout",
     "output_type": "stream",
     "text": [
      "For Lambda = 0.01 the no of non-zero coeffs for the data set A = 11 , data set B = 9 , data set C = 10\n",
      "For Lambda = 0.05 the no of non-zero coeffs for the data set A = 0 , data set B = 7 , data set C = 8\n",
      "For Lambda = 0.1 the no of non-zero coeffs for the data set A = 0 , data set B = 7 , data set C = 6\n",
      "For Lambda = 0.2 the no of non-zero coeffs for the data set A = 0 , data set B = 7 , data set C = 4\n",
      "For Lambda = 0.3 the no of non-zero coeffs for the data set A = 0 , data set B = 6 , data set C = 3\n"
     ]
    },
    {
     "data": {
      "image/png": "[encoded data removed]",
      "text/plain": [
       "<matplotlib.figure.Figure at 0x10864f668>"
      ]
     },
     "metadata": {},
     "output_type": "display_data"
    }
   ],
   "source": [
    "# Part A - Reporting and plotting the no of non-zero coefficients\n",
    "\n",
    "for i in range(len(lamb)):\n",
    "    print(\"For Lambda =\", lamb[i], \"the no of non-zero coeffs for the data set A =\", non_zero_coeff['a'][i],\\\n",
    "          \", data set B =\", non_zero_coeff['b'][i], \", data set C =\", non_zero_coeff['c'][i])\n",
    "    \n",
    "n_groups = 5\n",
    "fig, ax = plt.subplots()\n",
    "index = np.arange(n_groups)\n",
    "bar_width = 0.2\n",
    "opacity = 0.8\n",
    " \n",
    "rects1 = plt.bar(index, non_zero_coeff['a'], bar_width,\n",
    "                 alpha=opacity,\n",
    "                 color='b',\n",
    "                 label='Data set A')\n",
    " \n",
    "rects2 = plt.bar(index + bar_width, non_zero_coeff['b'], bar_width,\n",
    "                 alpha=opacity,\n",
    "                 color='g',\n",
    "                 label='Data set B')\n",
    "\n",
    "rects3 = plt.bar(index + 2*bar_width, non_zero_coeff['c'], bar_width,\n",
    "                 alpha=opacity,\n",
    "                 color='r',\n",
    "                 label='Data set C')\n",
    " \n",
    "plt.xlabel('Lambda')\n",
    "plt.ylabel('No of non-zero coefficients')\n",
    "plt.xticks(index + bar_width, lamb)\n",
    "plt.legend()\n",
    " \n",
    "plt.tight_layout()\n",
    "plt.show()"
   ]
  },
  {
   "cell_type": "code",
   "execution_count": 8,
   "metadata": {
    "collapsed": true
   },
   "outputs": [],
   "source": [
    "# Part B - lambda which yields the minimum no of non-zero coefficients\n",
    "\n",
    "wb_lasso = {}\n",
    "min_index_a = 0\n",
    "min_index_b = 0\n",
    "min_index_c = 0\n",
    "for i in range(len(lamb)):\n",
    "    if(non_zero_coeff['a'][i] < non_zero_coeff['a'][min_index_a] ):\n",
    "        min_index_a = i\n",
    "    if(non_zero_coeff['b'][i] < non_zero_coeff['b'][min_index_b]):\n",
    "        min_index_b = i\n",
    "    if(non_zero_coeff['c'][i] < non_zero_coeff['c'][min_index_c]):\n",
    "        min_index_c = i\n",
    "wb_lasso['a'] = clf_a[min_index_a].coef_\n",
    "wb_lasso['b'] = clf_b[min_index_b].coef_\n",
    "wb_lasso['c'] = clf_c[min_index_c].coef_"
   ]
  },
  {
   "cell_type": "code",
   "execution_count": 9,
   "metadata": {},
   "outputs": [
    {
     "name": "stdout",
     "output_type": "stream",
     "text": [
      "Dataset A: The value of lambda with the minimum non-zero coefficient is 0.05 and the no of non-zero coefficients is 0\n",
      "Dataset B: The value of lambda with the minimum non-zero coefficient is 0.3 and the no of non-zero coefficients is 6\n",
      "Dataset C: The value of lambda with the minimum non-zero coefficient is 0.3 and the no of non-zero coefficients is 3\n"
     ]
    }
   ],
   "source": [
    "print(\"Dataset A: The value of lambda with the minimum non-zero coefficient is\", lamb[min_index_a], \"and the \\\n",
    "no of non-zero coefficients is\", non_zero_coeff['a'][min_index_a])\n",
    "print(\"Dataset B: The value of lambda with the minimum non-zero coefficient is\", lamb[min_index_b], \"and the \\\n",
    "no of non-zero coefficients is\", non_zero_coeff['b'][min_index_b])\n",
    "print(\"Dataset C: The value of lambda with the minimum non-zero coefficient is\", lamb[min_index_c], \"and the \\\n",
    "no of non-zero coefficients is\", non_zero_coeff['c'][min_index_c])"
   ]
  },
  {
   "cell_type": "code",
   "execution_count": 10,
   "metadata": {},
   "outputs": [],
   "source": [
    "# Part-C Calculate the mean squared error on the test set\n",
    "\n",
    "error = {}\n",
    "error['a'] = []\n",
    "error['b'] = []\n",
    "error['c'] = []\n",
    "for i in range(len(lamb)):\n",
    "    y_predict = clf_a[i].predict(data_a.test_x)\n",
    "    error['a'].append(np.linalg.norm(data_a.test_y-y_predict)/len(y_predict))\n",
    "    \n",
    "    y_predict = clf_b[i].predict(data_b.test_x)\n",
    "    error['b'].append(np.linalg.norm(data_b.test_y-y_predict)/len(y_predict))\n",
    "    \n",
    "    y_predict = clf_c[i].predict(data_c.test_x)\n",
    "    error['c'].append(np.linalg.norm(data_c.test_y-y_predict)/len(y_predict))"
   ]
  },
  {
   "cell_type": "code",
   "execution_count": 11,
   "metadata": {},
   "outputs": [
    {
     "data": {
      "image/png": "[encoded data removed]",
      "text/plain": [
       "<matplotlib.figure.Figure at 0x112d78f98>"
      ]
     },
     "metadata": {},
     "output_type": "display_data"
    },
    {
     "data": {
      "image/png": "[encoded data removed]",
      "text/plain": [
       "<matplotlib.figure.Figure at 0x112cadc18>"
      ]
     },
     "metadata": {},
     "output_type": "display_data"
    },
    {
     "data": {
      "image/png": "[encoded data removed]",
      "text/plain": [
       "<matplotlib.figure.Figure at 0x11308fba8>"
      ]
     },
     "metadata": {},
     "output_type": "display_data"
    }
   ],
   "source": [
    "# Part-C Plot the error vs Lambda for all the datasets.\n",
    "y_pos = np.arange(len(lamb))\n",
    "plt.plot(y_pos, error['a'])\n",
    "plt.xticks(y_pos, lamb)\n",
    "plt.ylabel('Mean Squared error')\n",
    "plt.xlabel('Lambda')\n",
    "plt.title('Data set A')\n",
    "plt.show()\n",
    "\n",
    "plt.xticks(y_pos, lamb)\n",
    "plt.ylabel('Mean Squared error')\n",
    "plt.xlabel('Lambda')\n",
    "plt.title(\"Data set B\")\n",
    "plt.plot(y_pos, error['b'])\n",
    "plt.show()\n",
    "\n",
    "plt.xticks(y_pos, lamb)\n",
    "plt.ylabel('Mean Squared error')\n",
    "plt.xlabel('Lambda')\n",
    "plt.title(\"Data set C\")\n",
    "plt.plot(y_pos, error['c'])\n",
    "plt.show()"
   ]
  },
  {
   "cell_type": "code",
   "execution_count": 12,
   "metadata": {
    "scrolled": true
   },
   "outputs": [
    {
     "name": "stdout",
     "output_type": "stream",
     "text": [
      "Dataset A: The value of lambda with the minimum test error is 0.05 and the no of non-zero coefficients is 0\n",
      "Dataset B: The value of lambda with the minimum test error is 0.01 and the no of non-zero coefficients is 9\n",
      "Dataset C: The value of lambda with the minimum test error is 0.01 and the no of non-zero coefficients is 10\n"
     ]
    }
   ],
   "source": [
    "# Part D - lambda which yields the minimum test error\n",
    "wd_lasso = {}\n",
    "min_index_error_a = 0\n",
    "min_index_error_b = 0\n",
    "min_index_error_c = 0\n",
    "for i in range(len(lamb)):\n",
    "    if(error['a'][i] < error['a'][min_index_error_a] ):\n",
    "        min_index_error_a = i\n",
    "    if(error['b'][i] < error['b'][min_index_error_b]):\n",
    "        min_index_error_b = i\n",
    "    if(error['c'][i] < error['c'][min_index_error_c]):\n",
    "        min_index_error_c = i\n",
    "wd_lasso['a'] = clf_a[min_index_error_a].coef_\n",
    "wd_lasso['b'] = clf_b[min_index_error_b].coef_\n",
    "wd_lasso['c'] = clf_c[min_index_error_c].coef_\n",
    "\n",
    "print(\"Dataset A: The value of lambda with the minimum test error is\", lamb[min_index_error_a], \"and the \\\n",
    "no of non-zero coefficients is\", non_zero_coeff['a'][min_index_error_a])\n",
    "print(\"Dataset B: The value of lambda with the minimum test error is\", lamb[min_index_error_b], \"and the \\\n",
    "no of non-zero coefficients is\", non_zero_coeff['b'][min_index_error_b])\n",
    "print(\"Dataset C: The value of lambda with the minimum test error is\", lamb[min_index_error_c], \"and the \\\n",
    "no of non-zero coefficients is\", non_zero_coeff['c'][min_index_error_c])"
   ]
  },
  {
   "cell_type": "markdown",
   "metadata": {},
   "source": [
    "Part E : Yes, for dataset A, most entries become zero as $\\lambda$ increases. It is also possible to get all the entries to be zero. For this particular case, all the entries are zero for $\\lambda = 0.05, 0.1, 0.2, 0.3$."
   ]
  },
  {
   "cell_type": "markdown",
   "metadata": {},
   "source": [
    "2. Now, we turn to Ridge regression. We'll use sklearn module `Ridge` (read more [here](http://scikit-learn.org/stable/modules/generated/sklearn.linear_model.Ridge.html#sklearn.linear_model.Ridge)). Repeat each of the experiment above using Ridge regression. Use $\\lambda = 1, 50, 100, 200, 1000$."
   ]
  },
  {
   "cell_type": "code",
   "execution_count": 13,
   "metadata": {
    "collapsed": true
   },
   "outputs": [],
   "source": [
    "# Part A - Create models and fit\n",
    "\n",
    "from sklearn import linear_model\n",
    "lamb = [1, 50, 100, 200, 1000]\n",
    "\n",
    "clf_a = []\n",
    "clf_b = []\n",
    "clf_c = []\n",
    "for i in range(len(lamb)):\n",
    "    clf_a.append(linear_model.Ridge(alpha = lamb[i]))\n",
    "    clf_b.append(linear_model.Ridge(alpha = lamb[i]))\n",
    "    clf_c.append(linear_model.Ridge(alpha = lamb[i]))\n",
    "\n",
    "for i in range(len(lamb)):\n",
    "    clf_a[i].fit(data_a.train_x, data_a.train_y)\n",
    "    clf_b[i].fit(data_b.train_x, data_b.train_y)\n",
    "    clf_c[i].fit(data_c.train_x, data_c.train_y) "
   ]
  },
  {
   "cell_type": "code",
   "execution_count": 14,
   "metadata": {
    "collapsed": true
   },
   "outputs": [],
   "source": [
    "# Part A - Find the number of non-zero coefficients for all three datasets for all values of lambda\n",
    "\n",
    "non_zero_coeff_ridge = {}\n",
    "non_zero_coeff_ridge['a'] = []\n",
    "non_zero_coeff_ridge['b'] = []\n",
    "non_zero_coeff_ridge['c'] = []\n",
    "for i in range(len(lamb)):\n",
    "    count = 0\n",
    "    for c in clf_a[i].coef_.reshape(-1):\n",
    "        if c != 0:\n",
    "            count += 1\n",
    "    non_zero_coeff_ridge['a'].append(count)\n",
    "    \n",
    "    count = 0\n",
    "    for c in clf_b[i].coef_:\n",
    "        if c != 0:\n",
    "            count += 1\n",
    "    non_zero_coeff_ridge['b'].append(count)\n",
    "    \n",
    "    count = 0\n",
    "    for c in clf_c[i].coef_:\n",
    "        if c != 0:\n",
    "            count += 1\n",
    "    non_zero_coeff_ridge['c'].append(count)"
   ]
  },
  {
   "cell_type": "code",
   "execution_count": 15,
   "metadata": {},
   "outputs": [
    {
     "name": "stdout",
     "output_type": "stream",
     "text": [
      "For Lambda = 1 the no of non-zero coeffs for the data set A = 20 , data set B = 9 , data set C = 10\n",
      "For Lambda = 50 the no of non-zero coeffs for the data set A = 20 , data set B = 9 , data set C = 10\n",
      "For Lambda = 100 the no of non-zero coeffs for the data set A = 20 , data set B = 9 , data set C = 10\n",
      "For Lambda = 200 the no of non-zero coeffs for the data set A = 20 , data set B = 9 , data set C = 10\n",
      "For Lambda = 1000 the no of non-zero coeffs for the data set A = 20 , data set B = 9 , data set C = 10\n"
     ]
    },
    {
     "data": {
      "image/png": "[encoded data removed]",
      "text/plain": [
       "<matplotlib.figure.Figure at 0x1132ba2b0>"
      ]
     },
     "metadata": {},
     "output_type": "display_data"
    }
   ],
   "source": [
    "# Part A - Reporting and plotting the no of non-zero coefficients\n",
    "\n",
    "for i in range(len(lamb)):\n",
    "    print(\"For Lambda =\", lamb[i], \"the no of non-zero coeffs for the data set A =\", non_zero_coeff_ridge['a'][i],\\\n",
    "          \", data set B =\", non_zero_coeff_ridge['b'][i], \", data set C =\", non_zero_coeff_ridge['c'][i])\n",
    "    \n",
    "n_groups = 5\n",
    "fig, ax = plt.subplots()\n",
    "index = np.arange(n_groups)\n",
    "bar_width = 0.2\n",
    "opacity = 0.8\n",
    " \n",
    "rects1 = plt.bar(index, non_zero_coeff_ridge['a'], bar_width,\n",
    "                 alpha=opacity,\n",
    "                 color='b',\n",
    "                 label='Data set A')\n",
    " \n",
    "rects2 = plt.bar(index + bar_width, non_zero_coeff_ridge['b'], bar_width,\n",
    "                 alpha=opacity,\n",
    "                 color='g',\n",
    "                 label='Data set B')\n",
    "\n",
    "rects3 = plt.bar(index + 2*bar_width, non_zero_coeff_ridge['c'], bar_width,\n",
    "                 alpha=opacity,\n",
    "                 color='r',\n",
    "                 label='Data set C')\n",
    " \n",
    "plt.xlabel('Lambda')\n",
    "plt.ylabel('No of non-zero coefficients')\n",
    "plt.xticks(index + bar_width, lamb)\n",
    "plt.legend()\n",
    " \n",
    "plt.tight_layout()\n",
    "plt.show()"
   ]
  },
  {
   "cell_type": "code",
   "execution_count": 16,
   "metadata": {},
   "outputs": [
    {
     "name": "stdout",
     "output_type": "stream",
     "text": [
      "Dataset A: The value of lambda with the minimum non-zero coefficient is 1 and the no of non-zero coefficients is 20\n",
      "Dataset B: The value of lambda with the minimum non-zero coefficient is 1 and the no of non-zero coefficients is 9\n",
      "Dataset C: The value of lambda with the minimum non-zero coefficient is 1 and the no of non-zero coefficients is 10\n"
     ]
    }
   ],
   "source": [
    "# Part B - lambda which yields the minimum no of non-zero coefficients\n",
    "\n",
    "wb_ridge = {}\n",
    "min_index_ridge_a = 0\n",
    "min_index_ridge_b = 0\n",
    "min_index_ridge_c = 0\n",
    "for i in range(len(lamb)):\n",
    "    if(non_zero_coeff_ridge['a'][i] < non_zero_coeff_ridge['a'][min_index_ridge_a] ):\n",
    "        min_index_ridge_a = i\n",
    "    if(non_zero_coeff_ridge['b'][i] < non_zero_coeff_ridge['b'][min_index_ridge_b]):\n",
    "        min_index_ridge_b = i\n",
    "    if(non_zero_coeff_ridge['c'][i] < non_zero_coeff_ridge['c'][min_index_ridge_c]):\n",
    "        min_index_ridge_c = i\n",
    "wb_ridge['a'] = clf_a[min_index_ridge_a].coef_\n",
    "wb_ridge['b'] = clf_b[min_index_ridge_b].coef_\n",
    "wb_ridge['c'] = clf_c[min_index_ridge_c].coef_\n",
    "\n",
    "print(\"Dataset A: The value of lambda with the minimum non-zero coefficient is\", lamb[min_index_ridge_a], \"and the \\\n",
    "no of non-zero coefficients is\", non_zero_coeff_ridge['a'][min_index_ridge_a])\n",
    "print(\"Dataset B: The value of lambda with the minimum non-zero coefficient is\", lamb[min_index_ridge_b], \"and the \\\n",
    "no of non-zero coefficients is\", non_zero_coeff_ridge['b'][min_index_ridge_b])\n",
    "print(\"Dataset C: The value of lambda with the minimum non-zero coefficient is\", lamb[min_index_ridge_c], \"and the \\\n",
    "no of non-zero coefficients is\", non_zero_coeff_ridge['c'][min_index_ridge_c])"
   ]
  },
  {
   "cell_type": "code",
   "execution_count": 17,
   "metadata": {
    "collapsed": true
   },
   "outputs": [],
   "source": [
    "# Part-C Calculate the mean squared error on the test set\n",
    "\n",
    "error_ridge = {}\n",
    "error_ridge['a'] = []\n",
    "error_ridge['b'] = []\n",
    "error_ridge['c'] = []\n",
    "for i in range(len(lamb)):\n",
    "    y_predict = clf_a[i].predict(data_a.test_x)\n",
    "    error_ridge['a'].append(np.linalg.norm(data_a.test_y-y_predict)/len(y_predict))\n",
    "    \n",
    "    y_predict = clf_b[i].predict(data_b.test_x)\n",
    "    error_ridge['b'].append(np.linalg.norm(data_b.test_y-y_predict)/len(y_predict))\n",
    "    \n",
    "    y_predict = clf_c[i].predict(data_c.test_x)\n",
    "    error_ridge['c'].append(np.linalg.norm(data_c.test_y-y_predict)/len(y_predict))"
   ]
  },
  {
   "cell_type": "code",
   "execution_count": 18,
   "metadata": {},
   "outputs": [
    {
     "data": {
      "image/png": "[encoded data removed]",
      "text/plain": [
       "<matplotlib.figure.Figure at 0x1132096d8>"
      ]
     },
     "metadata": {},
     "output_type": "display_data"
    },
    {
     "data": {
      "image/png": "[encoded data removed]",
      "text/plain": [
       "<matplotlib.figure.Figure at 0x113527cf8>"
      ]
     },
     "metadata": {},
     "output_type": "display_data"
    },
    {
     "data": {
      "image/png": "[encoded data removed]",
      "text/plain": [
       "<matplotlib.figure.Figure at 0x1a184b4f60>"
      ]
     },
     "metadata": {},
     "output_type": "display_data"
    }
   ],
   "source": [
    "# Part-C Plot the error vs Lambda for all the datasets.\n",
    "y_pos = np.arange(len(lamb))\n",
    "plt.plot(y_pos, error_ridge['a'])\n",
    "plt.xticks(y_pos, lamb)\n",
    "plt.ylabel('Mean Squared error')\n",
    "plt.xlabel('Lambda')\n",
    "plt.title('Data set A')\n",
    "plt.show()\n",
    "\n",
    "plt.xticks(y_pos, lamb)\n",
    "plt.ylabel('Mean Squared error')\n",
    "plt.xlabel('Lambda')\n",
    "plt.title(\"Data set B\")\n",
    "plt.plot(y_pos, error_ridge['b'])\n",
    "plt.show()\n",
    "\n",
    "plt.xticks(y_pos, lamb)\n",
    "plt.ylabel('Mean Squared error')\n",
    "plt.xlabel('Lambda')\n",
    "plt.title(\"Data set C\")\n",
    "plt.plot(y_pos, error_ridge['c'])\n",
    "plt.show()"
   ]
  },
  {
   "cell_type": "code",
   "execution_count": 24,
   "metadata": {},
   "outputs": [
    {
     "name": "stdout",
     "output_type": "stream",
     "text": [
      "Dataset A: The value of lambda with the minimum test error is 1 and the no of non-zero coefficients is 20\n",
      "Dataset B: The value of lambda with the minimum test error is 1 and the no of non-zero coefficients is 9\n",
      "Dataset C: The value of lambda with the minimum test error is 200 and the no of non-zero coefficients is 10\n"
     ]
    }
   ],
   "source": [
    "# Part D - lambda which yields the minimum test error\n",
    "wd_ridge = {}\n",
    "min_index_error_ridge_a = 0\n",
    "min_index_error_ridge_b = 0\n",
    "min_index_error_ridge_c = 0\n",
    "for i in range(len(lamb)):\n",
    "    if(error['a'][i] < error_ridge['a'][min_index_error_ridge_a] ):\n",
    "        min_index_error_ridge_a = i\n",
    "    if(error_ridge['b'][i] < error_ridge['b'][min_index_error_ridge_b]):\n",
    "        min_index_error_ridge_b = i\n",
    "    if(error_ridge['c'][i] < error_ridge['c'][min_index_error_ridge_c]):\n",
    "        min_index_error_ridge_c = i\n",
    "wd_ridge['a'] = clf_a[min_index_error_ridge_a].coef_\n",
    "wd_ridge['b'] = clf_b[min_index_error_ridge_b].coef_\n",
    "wd_ridge['c'] = clf_c[min_index_error_ridge_c].coef_\n",
    "\n",
    "print(\"Dataset A: The value of lambda with the minimum test error is\", lamb[min_index_error_ridge_a], \"and the \\\n",
    "no of non-zero coefficients is\", non_zero_coeff_ridge['a'][min_index_error_ridge_a])\n",
    "print(\"Dataset B: The value of lambda with the minimum test error is\", lamb[min_index_error_ridge_b], \"and the \\\n",
    "no of non-zero coefficients is\", non_zero_coeff_ridge['b'][min_index_error_ridge_b])\n",
    "print(\"Dataset C: The value of lambda with the minimum test error is\", lamb[min_index_error_ridge_c], \"and the \\\n",
    "no of non-zero coefficients is\", non_zero_coeff_ridge['c'][min_index_error_ridge_c])"
   ]
  },
  {
   "cell_type": "markdown",
   "metadata": {},
   "source": [
    "Part E : No, for dataset A, the entries do not become zero as $\\lambda$ increases. "
   ]
  },
  {
   "cell_type": "markdown",
   "metadata": {},
   "source": [
    "3. Compare the two algorithms on each data set: compare the number of non-zero coordinates of the $\\mathbf w_d$'s, and compare the test error rates of the $\\mathbf w_b$'s. Report your results and comment on them."
   ]
  },
  {
   "cell_type": "code",
   "execution_count": 25,
   "metadata": {},
   "outputs": [
    {
     "name": "stdout",
     "output_type": "stream",
     "text": [
      "Dataset A\n",
      "                                        Lasso      Ridge\n",
      "0  No of non-zero coordinates in wd  0.000000  20.000000\n",
      "1  No of non-zero coordinates in wb  0.000000  20.000000\n",
      "2                     Test Error wd  1.021225   0.046278\n",
      "3                     Test Error wb  1.021225   0.046278\n",
      "\n",
      "Dataset B\n",
      "                                        Lasso     Ridge\n",
      "0  No of non-zero coordinates in wd  9.000000  9.000000\n",
      "1  No of non-zero coordinates in wb  6.000000  9.000000\n",
      "2                     Test Error wd  0.009026  0.004053\n",
      "3                     Test Error wb  0.028782  0.004053\n",
      "\n",
      "Dataset C\n",
      "                                         Lasso     Ridge\n",
      "0  No of non-zero coordinates in wd  10.000000  10.00000\n",
      "1  No of non-zero coordinates in wb   3.000000  10.00000\n",
      "2                     Test Error wd   0.130246   0.13010\n",
      "3                     Test Error wb   0.130897   0.13032\n"
     ]
    }
   ],
   "source": [
    "df = pd.DataFrame({'': ['No of non-zero coordinates in wd', 'No of non-zero coordinates in wb' \\\n",
    "                        ,'Test Error wd', 'Test Error wb'],\n",
    "                   'Lasso': [non_zero_coeff['a'][min_index_error_a], non_zero_coeff['a'][min_index_a] \\\n",
    "                             , error['a'][min_index_error_a], error['a'][min_index_a]],\n",
    "                   'Ridge':[non_zero_coeff_ridge['a'][min_index_error_ridge_a], non_zero_coeff_ridge['a'][min_index_ridge_a] \\\n",
    "                             , error_ridge['a'][min_index_error_ridge_a], error_ridge['a'][min_index_ridge_a]]})\n",
    "df.set_index('')\n",
    "print(\"Dataset A\")\n",
    "print(df)\n",
    "\n",
    "df = pd.DataFrame({'': ['No of non-zero coordinates in wd', 'No of non-zero coordinates in wb' \\\n",
    "                        ,'Test Error wd', 'Test Error wb'],\n",
    "                   'Lasso': [non_zero_coeff['b'][min_index_error_b], non_zero_coeff['b'][min_index_b] \\\n",
    "                             , error['b'][min_index_error_b], error['b'][min_index_b]],\n",
    "                   'Ridge':[non_zero_coeff_ridge['b'][min_index_error_ridge_b], non_zero_coeff_ridge['b'][min_index_ridge_b] \\\n",
    "                             , error_ridge['b'][min_index_error_ridge_b], error_ridge['b'][min_index_ridge_b]]})\n",
    "df.set_index('')\n",
    "print(\"\\nDataset B\")\n",
    "print(df)\n",
    "\n",
    "df = pd.DataFrame({'': ['No of non-zero coordinates in wd', 'No of non-zero coordinates in wb' \\\n",
    "                        ,'Test Error wd', 'Test Error wb'],\n",
    "                   'Lasso': [non_zero_coeff['c'][min_index_error_c], non_zero_coeff['c'][min_index_c] \\\n",
    "                             , error['c'][min_index_error_c], error['c'][min_index_c]],\n",
    "                   'Ridge':[non_zero_coeff_ridge['c'][min_index_error_ridge_c], non_zero_coeff_ridge['c'][min_index_ridge_c] \\\n",
    "                             , error_ridge['c'][min_index_error_ridge_c], error_ridge['c'][min_index_ridge_c]]})\n",
    "df.set_index('')\n",
    "print(\"\\nDataset C\")\n",
    "print(df)"
   ]
  },
  {
   "cell_type": "markdown",
   "metadata": {},
   "source": [
    ">The no of non-zero coordinates in $w_d$ of Lasso is equal to the no of non-zero coordinates in $w_d$ of Ridge for all the datasets.\n",
    "\n",
    ">The no of non-zero coordinates in $w_b$ of Lasso is generally lower than the no of non-zero corrdinates in $w_b$ of Ridge. This is because Lasso forces the coordinates to go to zero as the value of $\\lambda$ increases.\n",
    "\n",
    "> The test error rates for both $w_d$ and $w_b$ are generally higher for Lasso than Ridge. This is because, Lasso again forces the coordinates to go to zeros and is not able learn complicated models."
   ]
  },
  {
   "cell_type": "markdown",
   "metadata": {},
   "source": [
    "## Kernel Perceptron - 5 points"
   ]
  },
  {
   "cell_type": "markdown",
   "metadata": {},
   "source": [
    "Implement the Kernel Perceptron as described in the lecture using different kernel functions. Use the training and test data provided below to train and test your implementation. Report the error rate for each kernel function."
   ]
  },
  {
   "cell_type": "code",
   "execution_count": 299,
   "metadata": {
    "ExecuteTime": {
     "end_time": "2018-10-30T21:52:47.035187Z",
     "start_time": "2018-10-30T21:52:47.030541Z"
    },
    "collapsed": true
   },
   "outputs": [],
   "source": [
    "from scipy.io import loadmat\n",
    "class Data:\n",
    "    def __init__(self):\n",
    "        ff = lambda x,y : loadmat(x)[y]\n",
    "        \n",
    "        self.X_train = ff(\"data/iris_3/train_data.mat\", \"train_data\")\n",
    "        self.y_train = ff(\"data/iris_3/train_labels.mat\", \"train_labels\").flatten()\n",
    "        \n",
    "        self.X_test = ff(\"data/iris_3/test_data.mat\", \"test_data\")\n",
    "        self.y_test = ff(\"data/iris_3/test_labels.mat\", \"test_labels\").flatten()"
   ]
  },
  {
   "cell_type": "markdown",
   "metadata": {},
   "source": [
    "**A:** Implement the kernel functions below:"
   ]
  },
  {
   "cell_type": "code",
   "execution_count": 290,
   "metadata": {
    "ExecuteTime": {
     "end_time": "2018-10-30T23:53:56.191546Z",
     "start_time": "2018-10-30T23:53:56.036885Z"
    },
    "collapsed": true
   },
   "outputs": [],
   "source": [
    "import numpy as np\n",
    "from numpy import linalg\n",
    "\n",
    "def linear_kernel(x1, x2):\n",
    "    return np.dot(x1, x2)\n",
    "    \n",
    "def polynomial_kernel(x, y, p = 3):\n",
    "    return (1+ np.dot(x, y))**p\n",
    "    \n",
    "def gaussian_kernel(x, y, sigma = 0.5):\n",
    "    return math.exp(-np.linalg.norm(x-y)/(2 * sigma**2))\n",
    "    "
   ]
  },
  {
   "cell_type": "markdown",
   "metadata": {},
   "source": [
    "**B:** Implement the following methods of the `KernelPerceptron` class. The `__init__` takes also as input the kernel to use. `Niter` is equivalent to `t` as per the lecture slides. You are allowed to introduce new class variables/methods.\n",
    "\n",
    "* Implement the `fit` method. Taking as input the training data, it learns the model parameters\n",
    "* Implement the `predict` method which takes as input new examples and returns the estimated label "
   ]
  },
  {
   "cell_type": "code",
   "execution_count": 343,
   "metadata": {
    "ExecuteTime": {
     "end_time": "2018-10-30T22:02:05.965668Z",
     "start_time": "2018-10-30T22:02:05.958206Z"
    },
    "collapsed": true
   },
   "outputs": [],
   "source": [
    "class KernelPerceptron:\n",
    "    def __init__(self, kernel = linear_kernel, Niter = 1):\n",
    "        \n",
    "        self.kernel = kernel\n",
    "        self.Niter = Niter\n",
    "        self.support_vector_x = None\n",
    "        self.support_vector_y = None\n",
    "        self.alpha = None\n",
    "        self.X_train = None\n",
    "        self.y_train = None\n",
    "        \n",
    "    def fit(self, X, y):\n",
    "        self.alpha = np.zeros(len(X))\n",
    "        self.X_train = X\n",
    "        self.y_train = y\n",
    "        for i in range(self.Niter):\n",
    "            for j in range(len(X)):\n",
    "                if y[j]*(self.compute_sum(X[j])) <= 0:\n",
    "                    self.alpha[j] += 1\n",
    "    \n",
    "    def compute_sum(self, x_t):\n",
    "        sum_ = 0\n",
    "        for i in range(len(self.X_train)):\n",
    "            sum_ += self.alpha[i] * self.y_train[i] * self.kernel(self.X_train[i], x_t)\n",
    "        return sum_\n",
    "    \n",
    "    def predict(self, X):\n",
    "        y_predict = np.zeros(len(X))\n",
    "        for i in range(len(X)):\n",
    "            if self.compute_sum(X[i]) <= 0:\n",
    "                y_predict[i] = -1\n",
    "            else:\n",
    "                y_predict[i] = 1\n",
    "        return y_predict"
   ]
  },
  {
   "cell_type": "markdown",
   "metadata": {},
   "source": [
    "**C:** Report the test error for each kernel function for `Niter = 20`"
   ]
  },
  {
   "cell_type": "code",
   "execution_count": 344,
   "metadata": {
    "collapsed": true
   },
   "outputs": [],
   "source": [
    "iris = Data()"
   ]
  },
  {
   "cell_type": "code",
   "execution_count": 345,
   "metadata": {},
   "outputs": [
    {
     "name": "stdout",
     "output_type": "stream",
     "text": [
      "The test error for the linear kernel is 0.4\n"
     ]
    }
   ],
   "source": [
    "kp = KernelPerceptron(linear_kernel, 20)\n",
    "kp.fit(iris.X_train, iris.y_train)\n",
    "y_pred = kp.predict(iris.X_test)\n",
    "count = 0\n",
    "for i in range(len(y_pred)):\n",
    "    if y_pred[i] != iris.y_test[i]:\n",
    "        count += 1\n",
    "\n",
    "print(\"The test error for the linear kernel is\", round(count/len(y_pred), 2))"
   ]
  },
  {
   "cell_type": "code",
   "execution_count": 346,
   "metadata": {},
   "outputs": [
    {
     "name": "stdout",
     "output_type": "stream",
     "text": [
      "The test error for the polynomial kernel is 0.07\n"
     ]
    }
   ],
   "source": [
    "kp = KernelPerceptron(polynomial_kernel, 20)\n",
    "kp.fit(iris.X_train, iris.y_train)\n",
    "y_pred = kp.predict(iris.X_test)\n",
    "count = 0\n",
    "for i in range(len(y_pred)):\n",
    "    if y_pred[i] != iris.y_test[i]:\n",
    "        count += 1\n",
    "\n",
    "print(\"The test error for the polynomial kernel is\", round(count/len(y_pred), 2))"
   ]
  },
  {
   "cell_type": "code",
   "execution_count": 347,
   "metadata": {},
   "outputs": [
    {
     "name": "stdout",
     "output_type": "stream",
     "text": [
      "The test error for the gaussian kernel is 0.07\n"
     ]
    }
   ],
   "source": [
    "kp = KernelPerceptron(gaussian_kernel, 20)\n",
    "kp.fit(iris.X_train, iris.y_train)\n",
    "y_pred = kp.predict(iris.X_test)\n",
    "count = 0\n",
    "for i in range(len(y_pred)):\n",
    "    if y_pred[i] != iris.y_test[i]:\n",
    "        count += 1\n",
    "\n",
    "print(\"The test error for the gaussian kernel is\", round(count/len(y_pred), 2))"
   ]
  }
 ],
 "metadata": {
  "kernelspec": {
   "display_name": "Python 3",
   "language": "python",
   "name": "python3"
  },
  "language_info": {
   "codemirror_mode": {
    "name": "ipython",
    "version": 3
   },
   "file_extension": ".py",
   "mimetype": "text/x-python",
   "name": "python",
   "nbconvert_exporter": "python",
   "pygments_lexer": "ipython3",
   "version": "3.6.1"
  },
  "toc": {
   "base_numbering": 1,
   "nav_menu": {},
   "number_sections": true,
   "sideBar": true,
   "skip_h1_title": false,
   "title_cell": "Table of Contents",
   "title_sidebar": "Contents",
   "toc_cell": false,
   "toc_position": {},
   "toc_section_display": true,
   "toc_window_display": false
  }
 },
 "nbformat": 4,
 "nbformat_minor": 2
}
